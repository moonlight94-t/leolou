{
 "cells": [
  {
   "cell_type": "code",
   "execution_count": 3,
   "id": "8b6c6c63-d350-4e4d-8914-82b8e6625a99",
   "metadata": {},
   "outputs": [],
   "source": [
    "#step 1 mysql 연결하기 \n",
    "import pymysql\n",
    "conn = pymysql.connect(host='127.0.0.1', user='root', password='0000', db='solodb' , charset ='utf8')"
   ]
  },
  {
   "cell_type": "code",
   "execution_count": 4,
   "id": "7573af8a-aa2a-4802-932f-d45002f21896",
   "metadata": {},
   "outputs": [],
   "source": [
    "#step 2 cursor 생성하기\n",
    "cur = conn.cursor()"
   ]
  },
  {
   "cell_type": "code",
   "execution_count": 5,
   "id": "e07d46cc-1cc5-4b65-93eb-f1723a4b72fb",
   "metadata": {},
   "outputs": [
    {
     "data": {
      "text/plain": [
       "0"
      ]
     },
     "execution_count": 5,
     "metadata": {},
     "output_type": "execute_result"
    }
   ],
   "source": [
    "#step 3 \n",
    "cur.execute(\"create table userTable (id char(4), userName char(15), email char(20), birthYear int)\")"
   ]
  },
  {
   "cell_type": "code",
   "execution_count": 6,
   "id": "21a25ed2-c239-40fe-8933-8273b86c169e",
   "metadata": {},
   "outputs": [
    {
     "data": {
      "text/plain": [
       "1"
      ]
     },
     "execution_count": 6,
     "metadata": {},
     "output_type": "execute_result"
    }
   ],
   "source": [
    "#step4\n",
    "cur.execute(\"insert into usertable values('hong','홍지윤','hong@naver.com',1996)\")\n",
    "cur.execute(\"insert into usertable values('hong','홍지윤','hong@naver.com',1996)\")"
   ]
  },
  {
   "cell_type": "code",
   "execution_count": 7,
   "id": "1aecf4fd-7071-4ba2-b9e2-d14835e30059",
   "metadata": {},
   "outputs": [],
   "source": [
    "#step5\n",
    "conn.commit()"
   ]
  },
  {
   "cell_type": "code",
   "execution_count": 8,
   "id": "16ba1c24-aed8-4d83-9fdf-20ece3fdcf46",
   "metadata": {},
   "outputs": [],
   "source": [
    "#step6\n",
    "conn.close()"
   ]
  },
  {
   "cell_type": "code",
   "execution_count": null,
   "id": "691def49-a819-40df-a9c5-ae47f204d729",
   "metadata": {},
   "outputs": [],
   "source": []
  }
 ],
 "metadata": {
  "kernelspec": {
   "display_name": "Python 3 (ipykernel)",
   "language": "python",
   "name": "python3"
  },
  "language_info": {
   "codemirror_mode": {
    "name": "ipython",
    "version": 3
   },
   "file_extension": ".py",
   "mimetype": "text/x-python",
   "name": "python",
   "nbconvert_exporter": "python",
   "pygments_lexer": "ipython3",
   "version": "3.10.14"
  }
 },
 "nbformat": 4,
 "nbformat_minor": 5
}
