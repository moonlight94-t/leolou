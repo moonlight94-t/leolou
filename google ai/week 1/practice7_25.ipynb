{
  "nbformat": 4,
  "nbformat_minor": 0,
  "metadata": {
    "colab": {
      "provenance": [],
      "authorship_tag": "ABX9TyNoXQY7S1MOL/dqPpQKca6+",
      "include_colab_link": true
    },
    "kernelspec": {
      "name": "python3",
      "display_name": "Python 3"
    },
    "language_info": {
      "name": "python"
    }
  },
  "cells": [
    {
      "cell_type": "markdown",
      "metadata": {
        "id": "view-in-github",
        "colab_type": "text"
      },
      "source": [
        "<a href=\"https://colab.research.google.com/github/moonlight94-t/leolou/blob/master/google%20ai/week%201/practice7_25.ipynb\" target=\"_parent\"><img src=\"https://colab.research.google.com/assets/colab-badge.svg\" alt=\"Open In Colab\"/></a>"
      ]
    },
    {
      "cell_type": "code",
      "execution_count": null,
      "metadata": {
        "id": "B-Xc4Jgnieyz",
        "colab": {
          "base_uri": "https://localhost:8080/",
          "height": 35
        },
        "outputId": "088a1392-0f70-4b15-8a80-25fb4d6cb162"
      },
      "outputs": [
        {
          "output_type": "execute_result",
          "data": {
            "text/plain": [
              "'a'"
            ],
            "application/vnd.google.colaboratory.intrinsic+json": {
              "type": "string"
            }
          },
          "metadata": {},
          "execution_count": 34
        }
      ],
      "source": [
        "def solution(array):\n",
        "    while len(array) != 0:\n",
        "        for i, a in enumerate(set(array)):\n",
        "            array.remove(a)\n",
        "        if i == 0: return a #for 문에서 i 값이 저장됨\n",
        "    return -1\n",
        "\n",
        "solution(['c','a','b','a','a','b','c','d'])"
      ]
    },
    {
      "cell_type": "code",
      "source": [
        "list(enumerate(set(['a','b','a','a','b','c','d'])))"
      ],
      "metadata": {
        "colab": {
          "base_uri": "https://localhost:8080/"
        },
        "id": "xwjduGbmw7LP",
        "outputId": "b58f2721-f47a-4e89-81dc-af3a6312c065"
      },
      "execution_count": null,
      "outputs": [
        {
          "output_type": "execute_result",
          "data": {
            "text/plain": [
              "[(0, 'd'), (1, 'c'), (2, 'b'), (3, 'a')]"
            ]
          },
          "metadata": {},
          "execution_count": 19
        }
      ]
    },
    {
      "cell_type": "code",
      "source": [
        "for i in range(10):\n",
        "  pass\n",
        "\n",
        "print(i)"
      ],
      "metadata": {
        "colab": {
          "base_uri": "https://localhost:8080/"
        },
        "id": "OxsNibC4EzJT",
        "outputId": "f666d17c-d9f7-4273-b38f-e0198637e807"
      },
      "execution_count": null,
      "outputs": [
        {
          "output_type": "stream",
          "name": "stdout",
          "text": [
            "9\n"
          ]
        }
      ]
    },
    {
      "cell_type": "code",
      "source": [
        "for i,j in enumerate(set(['a','b','b','c'])):\n",
        "  print(f'{i} / {j}')\n"
      ],
      "metadata": {
        "colab": {
          "base_uri": "https://localhost:8080/"
        },
        "id": "i8gSpRd4xWcs",
        "outputId": "e6c02a9b-dfc0-4453-b57b-105ee89a6f4c"
      },
      "execution_count": null,
      "outputs": [
        {
          "output_type": "stream",
          "name": "stdout",
          "text": [
            "0 / c\n",
            "1 / b\n",
            "2 / a\n"
          ]
        }
      ]
    },
    {
      "cell_type": "code",
      "source": [
        "print(4, '<<', 5)"
      ],
      "metadata": {
        "colab": {
          "base_uri": "https://localhost:8080/"
        },
        "id": "w0y6fmG6if9y",
        "outputId": "d86b12d2-b48f-44ab-cb9e-d3474b828ad2"
      },
      "execution_count": null,
      "outputs": [
        {
          "output_type": "stream",
          "name": "stdout",
          "text": [
            "4 << 5\n"
          ]
        }
      ]
    },
    {
      "cell_type": "code",
      "source": [
        "my_string='abc'\n",
        "my_string2=' '.join(my_string)\n",
        "print(my_string2)\n",
        "print(my_string2.split())\n",
        "print(my_string2)"
      ],
      "metadata": {
        "colab": {
          "base_uri": "https://localhost:8080/"
        },
        "id": "zFdIkohOr3Uz",
        "outputId": "bcfb94ff-4a8f-48d1-9564-eb3a9cc987f9"
      },
      "execution_count": null,
      "outputs": [
        {
          "output_type": "stream",
          "name": "stdout",
          "text": [
            "a b c\n",
            "['a', 'b', 'c']\n",
            "a b c\n"
          ]
        }
      ]
    },
    {
      "cell_type": "code",
      "source": [
        "alpha='abcedfghij'\n",
        "numeric='0123456789'\n",
        "age=40\n",
        "dic={}\n",
        "dic.fromkeys(numeric)\n",
        "for i in range(10):\n",
        "  dic[i]=alpha[i]\n",
        "\n",
        "age2 = list(str(age))\n",
        "age3 =[]\n",
        "\n",
        "for i in range(len(age2)):\n",
        "  age3.append(dic[int(age2[i])])\n",
        "\n",
        "answer=''.join(age3)\n",
        "\n",
        "answer"
      ],
      "metadata": {
        "colab": {
          "base_uri": "https://localhost:8080/",
          "height": 35
        },
        "id": "KTg_A6kqy6es",
        "outputId": "e8d8a52a-7c34-4981-9f13-8ff8d1609276"
      },
      "execution_count": null,
      "outputs": [
        {
          "output_type": "execute_result",
          "data": {
            "text/plain": [
              "'da'"
            ],
            "application/vnd.google.colaboratory.intrinsic+json": {
              "type": "string"
            }
          },
          "metadata": {},
          "execution_count": 50
        }
      ]
    },
    {
      "cell_type": "code",
      "source": [
        "list('age ')"
      ],
      "metadata": {
        "colab": {
          "base_uri": "https://localhost:8080/"
        },
        "id": "15LmVbdzFM8a",
        "outputId": "0a04e7e4-2905-4ec7-dc1e-a97ecbbe867b"
      },
      "execution_count": null,
      "outputs": [
        {
          "output_type": "execute_result",
          "data": {
            "text/plain": [
              "['a', 'g', 'e', ' ']"
            ]
          },
          "metadata": {},
          "execution_count": 38
        }
      ]
    },
    {
      "cell_type": "code",
      "source": [
        "morse = {\n",
        "    '.-':'a','-...':'b','-.-.':'c','-..':'d','.':'e','..-.':'f',\n",
        "    '--.':'g','....':'h','..':'i','.---':'j','-.-':'k','.-..':'l',\n",
        "    '--':'m','-.':'n','---':'o','.--.':'p','--.-':'q','.-.':'r',\n",
        "    '...':'s','-':'t','..-':'u','...-':'v','.--':'w','-..-':'x',\n",
        "    '-.--':'y','--..':'z'\n",
        "}\n",
        "\n",
        "letter=\".... . .-.. .-.. ---\"\n",
        "answer=''\n",
        "letter2=letter.split()\n",
        "for i in range(len(letter2)):\n",
        "  answer += morse[letter2[i]]\n",
        "\n",
        "answer"
      ],
      "metadata": {
        "colab": {
          "base_uri": "https://localhost:8080/",
          "height": 35
        },
        "id": "Y8qrWhSEbVdU",
        "outputId": "ee311ebc-9d4d-4bb5-8e66-a091afe34c2f"
      },
      "execution_count": null,
      "outputs": [
        {
          "output_type": "execute_result",
          "data": {
            "text/plain": [
              "'hello'"
            ],
            "application/vnd.google.colaboratory.intrinsic+json": {
              "type": "string"
            }
          },
          "metadata": {},
          "execution_count": 64
        }
      ]
    },
    {
      "cell_type": "code",
      "source": [
        "def solution(n):\n",
        "    answer=0\n",
        "    for i in range(n):\n",
        "        for j in range(i)[2:]:\n",
        "            if (i+1) %(j) ==0:\n",
        "                answer+=1\n",
        "                break\n",
        "    return answer\n",
        "\n",
        "solution(4)\n",
        "# for함수는 뒤에 iterable항이 0이면 error 없이 종료"
      ],
      "metadata": {
        "colab": {
          "base_uri": "https://localhost:8080/"
        },
        "id": "xDojsF_mb_jd",
        "outputId": "2681aa89-544a-43c0-f763-4c27cfe8920f"
      },
      "execution_count": null,
      "outputs": [
        {
          "output_type": "execute_result",
          "data": {
            "text/plain": [
              "1"
            ]
          },
          "metadata": {},
          "execution_count": 43
        }
      ]
    },
    {
      "cell_type": "code",
      "source": [
        "list(range(4)[2:])"
      ],
      "metadata": {
        "colab": {
          "base_uri": "https://localhost:8080/"
        },
        "id": "Jn0VNY_6GOi3",
        "outputId": "8bc9bf2a-7d08-47c2-ca73-b48a46d16a96"
      },
      "execution_count": null,
      "outputs": [
        {
          "output_type": "execute_result",
          "data": {
            "text/plain": [
              "[2, 3]"
            ]
          },
          "metadata": {},
          "execution_count": 46
        }
      ]
    },
    {
      "cell_type": "code",
      "source": [
        "numbers=[1, 2, 3, 4, 5]\n",
        "\n",
        "numbers.sort(reverse=True)\n",
        "\n",
        "print(numbers)"
      ],
      "metadata": {
        "colab": {
          "base_uri": "https://localhost:8080/"
        },
        "id": "i46AGl-aq1xc",
        "outputId": "dea5cb46-a2ef-48b6-c717-ed229b8bde35"
      },
      "execution_count": null,
      "outputs": [
        {
          "output_type": "stream",
          "name": "stdout",
          "text": [
            "[5, 4, 3, 2, 1]\n"
          ]
        }
      ]
    },
    {
      "cell_type": "code",
      "source": [
        "my_string=\"hi12392\"\n",
        "my=list(my_string)\n",
        "answer = []\n",
        "\n",
        "for i in my_string:\n",
        "  if i.isnumeric() :\n",
        "    answer.append(i)\n",
        "\n",
        "print(answer)"
      ],
      "metadata": {
        "colab": {
          "base_uri": "https://localhost:8080/"
        },
        "id": "OnExhhAxxUef",
        "outputId": "bac7bc34-3d15-4680-b6b5-0c32a818cca0"
      },
      "execution_count": null,
      "outputs": [
        {
          "output_type": "stream",
          "name": "stdout",
          "text": [
            "['1', '2', '3', '9', '2']\n"
          ]
        }
      ]
    },
    {
      "cell_type": "code",
      "source": [
        "for i in 'hello':\n",
        "  print(type(i))\n",
        "\n",
        "'1' == int"
      ],
      "metadata": {
        "colab": {
          "base_uri": "https://localhost:8080/"
        },
        "id": "97rMnQnpH43T",
        "outputId": "dfcb4176-2bcb-4d5b-cb73-92cf3257111e"
      },
      "execution_count": null,
      "outputs": [
        {
          "output_type": "stream",
          "name": "stdout",
          "text": [
            "<class 'str'>\n",
            "<class 'str'>\n",
            "<class 'str'>\n",
            "<class 'str'>\n",
            "<class 'str'>\n"
          ]
        },
        {
          "output_type": "execute_result",
          "data": {
            "text/plain": [
              "False"
            ]
          },
          "metadata": {},
          "execution_count": 60
        }
      ]
    },
    {
      "cell_type": "code",
      "source": [
        "#sort sorted more? split"
      ],
      "metadata": {
        "colab": {
          "base_uri": "https://localhost:8080/"
        },
        "id": "12KTRZYuyhX8",
        "outputId": "dba16960-57f7-49fa-f13d-d550d0f4c85f"
      },
      "execution_count": null,
      "outputs": [
        {
          "output_type": "stream",
          "name": "stdout",
          "text": [
            "1\n",
            "2\n",
            "3\n",
            "9\n",
            "2\n"
          ]
        }
      ]
    },
    {
      "cell_type": "code",
      "source": [
        "j=0\n",
        "sum=1\n",
        "dots=[[-1, -1], [1, 1], [1, -1], [-1, 1]]\n",
        "\n",
        "for i in range(1):\n",
        "  while dots[0][i] != dots[j+1][i]:\n",
        "    j+=1\n",
        "  print(abs(dots[0][1-i])-dots[j+1][1-i])"
      ],
      "metadata": {
        "colab": {
          "base_uri": "https://localhost:8080/"
        },
        "id": "RhQ-JbLI38gd",
        "outputId": "c4dcb945-764a-490a-c034-ecbab50d095e"
      },
      "execution_count": null,
      "outputs": [
        {
          "output_type": "stream",
          "name": "stdout",
          "text": [
            "0\n"
          ]
        }
      ]
    },
    {
      "cell_type": "markdown",
      "source": [],
      "metadata": {
        "id": "_WrOmJqJBtG1"
      }
    }
  ]
}