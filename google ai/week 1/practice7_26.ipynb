{
  "nbformat": 4,
  "nbformat_minor": 0,
  "metadata": {
    "colab": {
      "provenance": [],
      "authorship_tag": "ABX9TyP3ZdE4ng/vBsbxBjXWHToc",
      "include_colab_link": true
    },
    "kernelspec": {
      "name": "python3",
      "display_name": "Python 3"
    },
    "language_info": {
      "name": "python"
    }
  },
  "cells": [
    {
      "cell_type": "markdown",
      "metadata": {
        "id": "view-in-github",
        "colab_type": "text"
      },
      "source": [
        "<a href=\"https://colab.research.google.com/github/moonlight94-t/leolou/blob/master/google%20ai/week%201/practice7_26.ipynb\" target=\"_parent\"><img src=\"https://colab.research.google.com/assets/colab-badge.svg\" alt=\"Open In Colab\"/></a>"
      ]
    },
    {
      "cell_type": "code",
      "execution_count": null,
      "metadata": {
        "colab": {
          "base_uri": "https://localhost:8080/"
        },
        "id": "0EidBYnUZTXj",
        "outputId": "f8e285bd-13a2-488e-a216-0f0840e37a57"
      },
      "outputs": [
        {
          "output_type": "stream",
          "name": "stdout",
          "text": [
            "[[-1.0], [0, 1], [0, 1], [0, 1], [0, 1]]\n"
          ]
        }
      ],
      "source": [
        "keyinput =[\"left\", \"right\", \"up\", \"right\", \"right\"]\n",
        "move=[]\n",
        "dic={'up':[0,1], 'down':[0,-1], 'left':[-1.0], 'right':[0,1]}\n",
        "for i in keyinput:\n",
        "  move.append(dic[i])\n",
        "\n",
        "print(move)"
      ]
    },
    {
      "cell_type": "code",
      "source": [
        "keyinput=[\"left\", \"right\", \"up\", \"right\", \"right\"]\n",
        "board=[11,11]\n",
        "\n",
        "a=board[0]//2\n",
        "b=board[1]//2\n",
        "move=[]\n",
        "\n",
        "dic={'up':[0,1], 'down':[0,-1], 'left':[-1.0], 'right':[0,1]}\n",
        "for i in keyinput:\n",
        "  move.append(dic[i])\n",
        "\n",
        "move"
      ],
      "metadata": {
        "colab": {
          "base_uri": "https://localhost:8080/"
        },
        "id": "5-_t3pVSfoQC",
        "outputId": "a31765d3-91c0-4f83-ea5d-a1d72b3ea009"
      },
      "execution_count": null,
      "outputs": [
        {
          "output_type": "execute_result",
          "data": {
            "text/plain": [
              "[[-1.0], [0, 1], [0, 1], [0, 1], [0, 1]]"
            ]
          },
          "metadata": {},
          "execution_count": 26
        }
      ]
    },
    {
      "cell_type": "code",
      "source": [
        "import platform\n",
        "\n",
        "print(platform.system()) # platform library 또는 package안에 있는 system함수를 사용한다는 의미\n",
        "print(platform.release())\n",
        "\n",
        "from platform import platform, release\n",
        "print(platform()) # 어디 소속인지 밝히지않아도됨\n",
        "print(release())\n",
        "\n",
        "# mylist.append() mylist를 입력값으로 받아서 여기서는 .의 의미가다름. .앞에있는게 변수면 입력으로 받아들인다는 의미"
      ],
      "metadata": {
        "colab": {
          "base_uri": "https://localhost:8080/"
        },
        "id": "tMW6IHSoi9Ms",
        "outputId": "aadf7a25-23fd-4c91-d82c-17c422ccab51"
      },
      "execution_count": null,
      "outputs": [
        {
          "output_type": "stream",
          "name": "stdout",
          "text": [
            "Linux\n",
            "6.1.85+\n",
            "Linux-6.1.85+-x86_64-with-glibc2.35\n",
            "6.1.85+\n"
          ]
        }
      ]
    },
    {
      "cell_type": "code",
      "source": [
        "text=\"life is too short\"\n",
        "for i in text:\n",
        "  print(i, end='')"
      ],
      "metadata": {
        "colab": {
          "base_uri": "https://localhost:8080/"
        },
        "id": "CgcY5UW0uCc4",
        "outputId": "a0ca84b9-8cea-4aaa-a10c-b1766bad294d"
      },
      "execution_count": null,
      "outputs": [
        {
          "output_type": "stream",
          "name": "stdout",
          "text": [
            "life is too short"
          ]
        }
      ]
    },
    {
      "cell_type": "code",
      "source": [
        "#공백 비워두기\n",
        "\"%10s\" % \"hi\"\n",
        "\n",
        "\"%-10s\" % \"hi\"\n",
        "\n",
        "\"%10.4f\" % 3.42134234 #10은 전체 자릿수를 의미하고 .4f는 소수점 미만의 자릿수를 의미\n",
        "\n",
        "\"i eat {0} {apples}\".format('3','banana')"
      ],
      "metadata": {
        "colab": {
          "base_uri": "https://localhost:8080/",
          "height": 35
        },
        "id": "eGGCP4-XOdxG",
        "outputId": "3fb0be61-0f5d-40b6-ceea-aad345edf6fb"
      },
      "execution_count": null,
      "outputs": [
        {
          "output_type": "execute_result",
          "data": {
            "text/plain": [
              "'3.4213'"
            ],
            "application/vnd.google.colaboratory.intrinsic+json": {
              "type": "string"
            }
          },
          "metadata": {},
          "execution_count": 79
        }
      ]
    },
    {
      "cell_type": "code",
      "source": [
        "my2=\"aAb1B2cC34oOp\"\n",
        "\n",
        "my3=list(filter(lambda x : x.isalpha()==True, my2))\n",
        "my4=list(my2)\n",
        "\n",
        "my4=list(map(lambda x : my2.replace(x, ' '),my4))\n",
        "print(my4)\n"
      ],
      "metadata": {
        "colab": {
          "base_uri": "https://localhost:8080/"
        },
        "id": "PCb_BCdsPYIM",
        "outputId": "1eba4033-354c-4889-fa95-e849aff22242"
      },
      "execution_count": null,
      "outputs": [
        {
          "output_type": "stream",
          "name": "stdout",
          "text": [
            "[' Ab1B2cC34oOp', 'a b1B2cC34oOp', 'aA 1B2cC34oOp', 'aAb B2cC34oOp', 'aAb1 2cC34oOp', 'aAb1B cC34oOp', 'aAb1B2 C34oOp', 'aAb1B2c 34oOp', 'aAb1B2cC 4oOp', 'aAb1B2cC3 oOp', 'aAb1B2cC34 Op', 'aAb1B2cC34o p', 'aAb1B2cC34oO ']\n"
          ]
        }
      ]
    },
    {
      "cell_type": "code",
      "source": [
        "text='dog.jpeg'\n",
        "text.strip('.jpeg')\n",
        "\n",
        "text2='aaxxaa'\n",
        "text2.strip('a')"
      ],
      "metadata": {
        "colab": {
          "base_uri": "https://localhost:8080/",
          "height": 35
        },
        "id": "PmFfiFcsi6F3",
        "outputId": "d5a74c32-d2a1-47f7-fdb3-6e6fc871fffc"
      },
      "execution_count": null,
      "outputs": [
        {
          "output_type": "execute_result",
          "data": {
            "text/plain": [
              "'xx'"
            ],
            "application/vnd.google.colaboratory.intrinsic+json": {
              "type": "string"
            }
          },
          "metadata": {},
          "execution_count": 8
        }
      ]
    },
    {
      "cell_type": "code",
      "source": [
        "my2=\"aAb1B2cC34oOp\"\n",
        "s = ''.join(i if i.isdigit() else ' ' for i in my2)\n",
        "sum(int(i) for i in s.split())"
      ],
      "metadata": {
        "colab": {
          "base_uri": "https://localhost:8080/"
        },
        "id": "QYs-8kJYyB6e",
        "outputId": "09bea410-e9b6-40ad-ff79-79c73b32b083"
      },
      "execution_count": null,
      "outputs": [
        {
          "output_type": "execute_result",
          "data": {
            "text/plain": [
              "37"
            ]
          },
          "metadata": {},
          "execution_count": 9
        }
      ]
    },
    {
      "cell_type": "code",
      "source": [
        "#구구단 / 포맷팅 연습\n",
        "#함수로 쪼개서 구현 / 문자열 더하기\n",
        "def gugudan(a,b):\n",
        "  d=''\n",
        "  for i in range(1,10):\n",
        "    d+='\\n'\n",
        "    for j in range(a,b+1):\n",
        "      c=j*i\n",
        "      d+='%5s' %f'{j} X {i} =' + '%5s' %f'{c}  '\n",
        "  return print(d)\n",
        "\n",
        "gugudan(2,4)"
      ],
      "metadata": {
        "colab": {
          "base_uri": "https://localhost:8080/"
        },
        "id": "nSPxa3RF1kWo",
        "outputId": "9c805685-8fac-4693-cbb2-78c408391e6c"
      },
      "execution_count": null,
      "outputs": [
        {
          "output_type": "stream",
          "name": "stdout",
          "text": [
            "\n",
            "2 X 1 =  2  3 X 1 =  3  4 X 1 =  4  \n",
            "2 X 2 =  4  3 X 2 =  6  4 X 2 =  8  \n",
            "2 X 3 =  6  3 X 3 =  9  4 X 3 = 12  \n",
            "2 X 4 =  8  3 X 4 = 12  4 X 4 = 16  \n",
            "2 X 5 = 10  3 X 5 = 15  4 X 5 = 20  \n",
            "2 X 6 = 12  3 X 6 = 18  4 X 6 = 24  \n",
            "2 X 7 = 14  3 X 7 = 21  4 X 7 = 28  \n",
            "2 X 8 = 16  3 X 8 = 24  4 X 8 = 32  \n",
            "2 X 9 = 18  3 X 9 = 27  4 X 9 = 36  \n"
          ]
        }
      ]
    },
    {
      "cell_type": "code",
      "source": [
        "for i in range(1,10):\n",
        "  print('\\n')\n",
        "  for j in range(2,10):\n",
        "    c=j*i\n",
        "    print('%5s' %f'{j} X {i} =' + '%5s' %f'{c}',end='  ')"
      ],
      "metadata": {
        "colab": {
          "base_uri": "https://localhost:8080/"
        },
        "id": "4QKDf2BL6ng8",
        "outputId": "26848e3e-d1df-4d08-bd43-56541e50275a"
      },
      "execution_count": null,
      "outputs": [
        {
          "output_type": "stream",
          "name": "stdout",
          "text": [
            "\n",
            "\n",
            "2 X 1 =   2  3 X 1 =   3  4 X 1 =   4  5 X 1 =   5  6 X 1 =   6  7 X 1 =   7  8 X 1 =   8  9 X 1 =   9  \n",
            "\n",
            "2 X 2 =   4  3 X 2 =   6  4 X 2 =   8  5 X 2 =  10  6 X 2 =  12  7 X 2 =  14  8 X 2 =  16  9 X 2 =  18  \n",
            "\n",
            "2 X 3 =   6  3 X 3 =   9  4 X 3 =  12  5 X 3 =  15  6 X 3 =  18  7 X 3 =  21  8 X 3 =  24  9 X 3 =  27  \n",
            "\n",
            "2 X 4 =   8  3 X 4 =  12  4 X 4 =  16  5 X 4 =  20  6 X 4 =  24  7 X 4 =  28  8 X 4 =  32  9 X 4 =  36  \n",
            "\n",
            "2 X 5 =  10  3 X 5 =  15  4 X 5 =  20  5 X 5 =  25  6 X 5 =  30  7 X 5 =  35  8 X 5 =  40  9 X 5 =  45  \n",
            "\n",
            "2 X 6 =  12  3 X 6 =  18  4 X 6 =  24  5 X 6 =  30  6 X 6 =  36  7 X 6 =  42  8 X 6 =  48  9 X 6 =  54  \n",
            "\n",
            "2 X 7 =  14  3 X 7 =  21  4 X 7 =  28  5 X 7 =  35  6 X 7 =  42  7 X 7 =  49  8 X 7 =  56  9 X 7 =  63  \n",
            "\n",
            "2 X 8 =  16  3 X 8 =  24  4 X 8 =  32  5 X 8 =  40  6 X 8 =  48  7 X 8 =  56  8 X 8 =  64  9 X 8 =  72  \n",
            "\n",
            "2 X 9 =  18  3 X 9 =  27  4 X 9 =  36  5 X 9 =  45  6 X 9 =  54  7 X 9 =  63  8 X 9 =  72  9 X 9 =  81  "
          ]
        }
      ]
    },
    {
      "cell_type": "code",
      "source": [
        "strg='am234mf4m2m43'\n",
        "my=''.join(i if i.isdigit() else ' ' for i in strg)\n",
        "print(my.split())\n",
        "ans= sum(map(int,my.split()))\n",
        "print(ans)\n",
        "\n"
      ],
      "metadata": {
        "colab": {
          "base_uri": "https://localhost:8080/"
        },
        "id": "7D_edMgv6nUc",
        "outputId": "7450f2fc-542f-49b2-c00c-5a66aa6bc301"
      },
      "execution_count": null,
      "outputs": [
        {
          "output_type": "stream",
          "name": "stdout",
          "text": [
            "['234', '4', '2', '43']\n",
            "283\n"
          ]
        }
      ]
    },
    {
      "cell_type": "code",
      "source": [
        "board=[[1, 0, 0] , [1, 0, 0]]\n",
        "bo=[]\n",
        "for i in range(len(board)):\n",
        "  for j in range(len(board)):\n",
        "    if board[i][j]==1:\n",
        "      bo.append([i,j])\n",
        "\n",
        "\n",
        "for i in bo:\n",
        "  a=i[0]\n",
        "  b=i[1]\n",
        "  x=[a-1, a, a+1]\n",
        "  y=[b-1, b, b+1]\n",
        "  x1=list(filter(lambda c: c!=-1 and c!=len(board) , x))\n",
        "  y1=list(filter(lambda c: c!=-1 and c!=len(board) , y))\n",
        "  for j in x1:\n",
        "    for k in y1:\n",
        "      board[j][k]=1\n",
        "\n",
        "sum=0\n",
        "for i in range(len(board)):\n",
        "  sum += board[i].count(0)\n",
        "\n",
        "print(sum)\n",
        "\n",
        "#예외처리 ij\n",
        "#위험지역에 0이 아닌값을 넣고 마지막에 0 카운팅\n",
        "\n",
        "\n"
      ],
      "metadata": {
        "colab": {
          "base_uri": "https://localhost:8080/"
        },
        "id": "fg37ySzZKh_m",
        "outputId": "a78ea6ed-232c-4d6d-f382-df0d552c988d"
      },
      "execution_count": null,
      "outputs": [
        {
          "output_type": "stream",
          "name": "stdout",
          "text": [
            "2\n"
          ]
        }
      ]
    }
  ]
}