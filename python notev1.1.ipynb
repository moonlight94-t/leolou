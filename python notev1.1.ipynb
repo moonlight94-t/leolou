{
  "nbformat": 4,
  "nbformat_minor": 0,
  "metadata": {
    "colab": {
      "provenance": []
    },
    "kernelspec": {
      "name": "python3",
      "display_name": "Python 3"
    },
    "language_info": {
      "name": "python"
    }
  },
  "cells": [
    {
      "cell_type": "markdown",
      "source": [
        "\n",
        "#1.data type\n",
        "\n"
      ],
      "metadata": {
        "id": "-vLml3efBot8"
      }
    },
    {
      "cell_type": "code",
      "source": [
        "print(type(6))\n",
        "print(type('6'))\n",
        "print(type(6.5))\n",
        "print(type(6/3))"
      ],
      "metadata": {
        "colab": {
          "base_uri": "https://localhost:8080/"
        },
        "id": "ijz62tFAPfY1",
        "outputId": "bce175b3-f9cd-4bd9-a139-125e3bb77458"
      },
      "execution_count": null,
      "outputs": [
        {
          "output_type": "stream",
          "name": "stdout",
          "text": [
            "<class 'int'>\n",
            "<class 'str'>\n",
            "<class 'float'>\n",
            "<class 'float'>\n"
          ]
        }
      ]
    },
    {
      "cell_type": "code",
      "source": [
        "True\n",
        "False\n",
        "\n",
        "bool([1, 2, 3]) #True\n",
        "bool([]) #False\n",
        "bool(0) #False\n",
        "bool(3) #True\n",
        "bool(None) #False"
      ],
      "metadata": {
        "colab": {
          "base_uri": "https://localhost:8080/"
        },
        "id": "F5bNX5DGcebI",
        "outputId": "7be267e5-dbc6-46c2-a5d1-19a85f7f5386"
      },
      "execution_count": null,
      "outputs": [
        {
          "output_type": "execute_result",
          "data": {
            "text/plain": [
              "False"
            ]
          },
          "metadata": {},
          "execution_count": 30
        }
      ]
    },
    {
      "cell_type": "code",
      "source": [
        "int(3.5) #3\n",
        "int('3') #3\n",
        "float(3) #3.0\n",
        "str(3.5) #'3.5'"
      ],
      "metadata": {
        "colab": {
          "base_uri": "https://localhost:8080/",
          "height": 35
        },
        "id": "wz4kAqDydbz7",
        "outputId": "9885da4f-f9a4-429f-baef-81bc1c61ffcd"
      },
      "execution_count": null,
      "outputs": [
        {
          "output_type": "execute_result",
          "data": {
            "text/plain": [
              "'3.5'"
            ],
            "application/vnd.google.colaboratory.intrinsic+json": {
              "type": "string"
            }
          },
          "metadata": {},
          "execution_count": 78
        }
      ]
    },
    {
      "cell_type": "code",
      "source": [
        "int('11', 2) # 2진법으로 표현된 11을 10진법으로 표현해라"
      ],
      "metadata": {
        "colab": {
          "base_uri": "https://localhost:8080/"
        },
        "id": "7ruEPwP-7B-m",
        "outputId": "41ef9e0e-ba54-4f49-c53e-fe70fd052778"
      },
      "execution_count": null,
      "outputs": [
        {
          "output_type": "execute_result",
          "data": {
            "text/plain": [
              "3"
            ]
          },
          "metadata": {},
          "execution_count": 98
        }
      ]
    },
    {
      "cell_type": "markdown",
      "source": [
        "#2.iterable"
      ],
      "metadata": {
        "id": "xPxz-5qGPxTT"
      }
    },
    {
      "cell_type": "markdown",
      "source": [
        "##2.1 str"
      ],
      "metadata": {
        "id": "1wrbrdcgRAoq"
      }
    },
    {
      "cell_type": "code",
      "source": [
        "a='hello'\n",
        "b='hello\\''\n",
        "c='hello\"'\n",
        "d='''\n",
        "hello\n",
        "world\n",
        "'''\n",
        "e='h\\nello'\n",
        "f='h\\tello'\n",
        "for i in [a,b,c,d,e,f]:\n",
        "  print(i)"
      ],
      "metadata": {
        "colab": {
          "base_uri": "https://localhost:8080/"
        },
        "id": "KhauouTlQyiy",
        "outputId": "734f65e8-5de1-4ccc-ead7-15f42bd0c1ab"
      },
      "execution_count": null,
      "outputs": [
        {
          "output_type": "stream",
          "name": "stdout",
          "text": [
            "hello\n",
            "hello'\n",
            "hello\"\n",
            "\n",
            "hello\n",
            "world\n",
            "\n",
            "h\n",
            "ello\n",
            "h\tello\n"
          ]
        }
      ]
    },
    {
      "cell_type": "code",
      "source": [
        "a='hello'\n",
        "b='world'\n",
        "a*5 #hellohellohellohellohello\n",
        "a+b #helloworld\n",
        "a[1] #e\n",
        "# str[start:stop:rule=1]\n",
        "a[1:3] #el\n",
        "a[::-1] #olleh"
      ],
      "metadata": {
        "colab": {
          "base_uri": "https://localhost:8080/"
        },
        "id": "9hnZ8hezSKu8",
        "outputId": "8a3f1f61-574b-4ab3-cadd-6b3f9b2d7e24"
      },
      "execution_count": null,
      "outputs": [
        {
          "output_type": "stream",
          "name": "stdout",
          "text": [
            "hellohellohellohellohello\n",
            "helloworld\n",
            "e\n",
            "el\n",
            "olleh\n"
          ]
        }
      ]
    },
    {
      "cell_type": "code",
      "source": [
        "a='hello'\n",
        "print(len(a)) #5\n",
        "print(a.count('l')) #2\n",
        "print(a.find('o')) #4 #find함수는 없는 값은 -1 를 return함\n",
        "print(a.index('o')) #4\n",
        "\n",
        "b=['h','e','l','l','o']\n",
        "''.join(b)   # ' ' 사이에 원하는 삽입값 선택\n",
        "\n",
        "a.replace('e','') #원하는 문자 제거할 때 사용가능"
      ],
      "metadata": {
        "colab": {
          "base_uri": "https://localhost:8080/",
          "height": 105
        },
        "id": "EGy_etPETPgA",
        "outputId": "6f5e2d1e-67bc-41d2-bd63-0ba65d1ce8b3"
      },
      "execution_count": null,
      "outputs": [
        {
          "output_type": "stream",
          "name": "stdout",
          "text": [
            "5\n",
            "2\n",
            "4\n",
            "4\n"
          ]
        },
        {
          "output_type": "execute_result",
          "data": {
            "text/plain": [
              "'hllo'"
            ],
            "application/vnd.google.colaboratory.intrinsic+json": {
              "type": "string"
            }
          },
          "metadata": {},
          "execution_count": 23
        }
      ]
    },
    {
      "cell_type": "code",
      "source": [
        "a='hello world'\n",
        "a.strip('e')  #'hello world' #양 끝에 그 문자가 존재할 경우만 제거, 공백 제거 할때 용이\n",
        "a.strip('h') #ello world'\n",
        "b='life/is/too/short'\n",
        "b.split('/')\n",
        "#.upper(), .lower()"
      ],
      "metadata": {
        "colab": {
          "base_uri": "https://localhost:8080/"
        },
        "id": "gf7VvGrXUOsC",
        "outputId": "d0611a31-0a68-4a80-9bab-25262b895b9d"
      },
      "execution_count": null,
      "outputs": [
        {
          "output_type": "execute_result",
          "data": {
            "text/plain": [
              "['life', 'is', 'too', 'short']"
            ]
          },
          "metadata": {},
          "execution_count": 24
        }
      ]
    },
    {
      "cell_type": "code",
      "source": [
        "my2=\"aAb1B2cC34oOp\"\n",
        "s = ''.join(i if i.isdigit() else ' ' for i in my2)\n",
        "sum(int(i) for i in s.split())"
      ],
      "metadata": {
        "id": "3dnAdfhvKX0x"
      },
      "execution_count": null,
      "outputs": []
    },
    {
      "cell_type": "code",
      "source": [
        "a='3'\n",
        "b='-3.5'\n",
        "\n",
        "a.isalpha() #알파벳인가?\n",
        "b.isdigit() #정수인가? isdecimal과 차이는 isdigit은 거듭제곱 True\n",
        "a.isnumeric() #실수인가?\n",
        "a.isalnum() #알파벳+숫자인가?\n",
        "a.isupper() #영어가 모두 대문자인가?\n",
        "a.islower() #영어가 모두 소문자인가?\n",
        "a.isdecimal()# int type 정수인가?"
      ],
      "metadata": {
        "id": "1bkNoz21TeH9",
        "colab": {
          "base_uri": "https://localhost:8080/"
        },
        "outputId": "fbdd9b6f-ea38-49cc-f69d-02ef333e185b"
      },
      "execution_count": null,
      "outputs": [
        {
          "output_type": "execute_result",
          "data": {
            "text/plain": [
              "False"
            ]
          },
          "metadata": {},
          "execution_count": 4
        }
      ]
    },
    {
      "cell_type": "code",
      "source": [
        "number = ['123', '-1', '0.5', '½', '3²', '50%','3**2']\n",
        "\n",
        "for i in number:\n",
        "    print(i, i.isnumeric())"
      ],
      "metadata": {
        "colab": {
          "base_uri": "https://localhost:8080/"
        },
        "id": "laQS8SkqY9Bu",
        "outputId": "0dc2f038-30db-4552-fea2-b69d2b022de9"
      },
      "execution_count": null,
      "outputs": [
        {
          "output_type": "stream",
          "name": "stdout",
          "text": [
            "123 True\n",
            "-1 False\n",
            "0.5 False\n",
            "½ True\n",
            "3² True\n",
            "50% False\n",
            "3**2 False\n"
          ]
        }
      ]
    },
    {
      "cell_type": "code",
      "source": [
        "number = ['123', '-1', '0.5', '½', '3²', '50%','3**2']\n",
        "\n",
        "for i in number:\n",
        "    print(i, i.isdigit())"
      ],
      "metadata": {
        "colab": {
          "base_uri": "https://localhost:8080/"
        },
        "id": "pqM9xG8MZNDI",
        "outputId": "995f8176-99d8-4718-c881-4881246c0059"
      },
      "execution_count": null,
      "outputs": [
        {
          "output_type": "stream",
          "name": "stdout",
          "text": [
            "123 True\n",
            "-1 False\n",
            "0.5 False\n",
            "½ False\n",
            "3² True\n",
            "50% False\n",
            "3**2 False\n"
          ]
        }
      ]
    },
    {
      "cell_type": "code",
      "source": [
        "# translate string\n",
        "hi = \"Hello, World!\"\n",
        "table = str.maketrans('HWd', '123')\n",
        "hi.translate(table)"
      ],
      "metadata": {
        "colab": {
          "base_uri": "https://localhost:8080/",
          "height": 35
        },
        "id": "ajEI6GNrrtDg",
        "outputId": "f51dc4af-4da6-4e32-b76e-010ac24c60bd"
      },
      "execution_count": null,
      "outputs": [
        {
          "output_type": "execute_result",
          "data": {
            "text/plain": [
              "'1ello, 2orl3!'"
            ],
            "application/vnd.google.colaboratory.intrinsic+json": {
              "type": "string"
            }
          },
          "metadata": {},
          "execution_count": 1
        }
      ]
    },
    {
      "cell_type": "code",
      "source": [
        "hi = \"Hello, World!\"\n",
        "hi.find('e')\n",
        "hi.endswith('!')\n",
        "hi.startswith('H')"
      ],
      "metadata": {
        "colab": {
          "base_uri": "https://localhost:8080/"
        },
        "id": "MzpYON5F9ZaX",
        "outputId": "d6d6c8e4-43b6-4ae5-8a51-ad8bb2999581"
      },
      "execution_count": null,
      "outputs": [
        {
          "output_type": "execute_result",
          "data": {
            "text/plain": [
              "True"
            ]
          },
          "metadata": {},
          "execution_count": 9
        }
      ]
    },
    {
      "cell_type": "markdown",
      "source": [
        "##2.2 list"
      ],
      "metadata": {
        "id": "lxH7GrlXVofk"
      }
    },
    {
      "cell_type": "code",
      "source": [
        "#indexing은 str참조\n",
        "a=[3,2,4,1]\n",
        "del a[1] #index\n",
        "\n",
        "#a.append('last insert')\n",
        "\n",
        "a.sort() #오름차순\n",
        "a.sort(reverse=True) #내림차순\n",
        "\n",
        "b=['a','d','cd','c','C','A','CED']  # ['A', 'C', 'CED', 'a', 'c', 'cd', 'd'] 대문자 우선 알파벳순\n",
        "b.sort()\n",
        "b.reverse() # b[::-1]\n",
        "\n",
        "a=['1','2','3']\n",
        "a.insert(1,'1') #a=[1,1,2,3]\n",
        "a.remove('1') # a=[1,2,3] 첫번째 나오는 1을 제거\n",
        "b=a.pop() #b=3 a=[1,2] 마지막 요소 리턴하고 제거함\n",
        "\n",
        "a.copy() #['1', '2']\n",
        "#index(), extend(), count()"
      ],
      "metadata": {
        "id": "8ax_HdlOWWBf",
        "colab": {
          "base_uri": "https://localhost:8080/"
        },
        "outputId": "a0b57b99-70f7-4546-8bb9-ef01918364a9"
      },
      "execution_count": null,
      "outputs": [
        {
          "output_type": "execute_result",
          "data": {
            "text/plain": [
              "['1', '2']"
            ]
          },
          "metadata": {},
          "execution_count": 18
        }
      ]
    },
    {
      "cell_type": "code",
      "source": [
        "list('age ') #['a', 'g', 'e', ' '] str을 하나씩 쪼개는 형식으로 list"
      ],
      "metadata": {
        "colab": {
          "base_uri": "https://localhost:8080/"
        },
        "id": "r2kssMjfFgZJ",
        "outputId": "dd8fb956-9453-4e27-d230-78799fdd33de"
      },
      "execution_count": null,
      "outputs": [
        {
          "output_type": "execute_result",
          "data": {
            "text/plain": [
              "['a', 'g', 'e', ' ']"
            ]
          },
          "metadata": {},
          "execution_count": 1
        }
      ]
    },
    {
      "cell_type": "code",
      "source": [
        "lis1=['a','ab','abcd']\n",
        "list1.sort(key=len) #['a', 'ab', 'abcd']  만약 key=len()을 하면 함수를 직접 지정하여, 각 요소의 길이를 기준으로 정렬하겠다는 의도\n",
        "#len()은 함수를 즉시 호출함 / len()을 즉시 호출하면 단일 값(함수의 반환값)만 얻게 되므로 정렬 기준으로 사용할 수 없습"
      ],
      "metadata": {
        "id": "iiandI8zGg8y"
      },
      "execution_count": null,
      "outputs": []
    },
    {
      "cell_type": "markdown",
      "source": [
        "##2.3 tuple"
      ],
      "metadata": {
        "id": "HbPmltQEZSmm"
      }
    },
    {
      "cell_type": "code",
      "source": [
        "#index는 있지만 삭제는 불가능하다.\n",
        "t1 = ()\n",
        "t2 = (1,)\n",
        "t3 = (1, 2, 3)\n",
        "t4 = 1, 2, 3 # 다음의 특성과 unpacking을 이용해 변수를 용이하게 지정가능\n",
        "a,b = 1, 2 # a=1 , b=2 로 지정됨\n",
        "a,b = b, a #swap"
      ],
      "metadata": {
        "id": "og_0HFNVZXeN"
      },
      "execution_count": null,
      "outputs": []
    },
    {
      "cell_type": "markdown",
      "source": [
        "##2.4 dictionary"
      ],
      "metadata": {
        "id": "fWwguRZVZ8ib"
      }
    },
    {
      "cell_type": "code",
      "source": [
        "dic = {'name': 'pey', 'phone': '010-9999-1234', 'birth': '1118'}\n",
        "#고유한 key값을 가지고 key와 value가 매치되어있다. 순서(index)는 없다\n",
        "\n",
        "dic['sex']='female'\n",
        "del dic['sex']\n",
        "\n",
        "dic.keys() #['name','phone','birth'] #순서대로 나오는 것은 아님\n",
        "dic.values() #['pey','010-9999-1234','1118']\n",
        "dic.items() #[('name','pey'),('phone','010-9999-1234'),('birth','1118')]\n",
        "dic.get('sex') #None key값을 직접 넣는 것과 차이는 error 발생여부 dic.get(key,error=None) error의 기본값은 None이지만 원하는 리턴을 지정해줄수 있음\n",
        "dic.pop('name')\n",
        "dic.copy() #{'phone': '010-9999-1234', 'birth': '1118'}\n",
        "\n",
        "#dic.clear()\n",
        "\n",
        "list(dic) #['phone', 'birth'] key값으로 이루어진 list return"
      ],
      "metadata": {
        "id": "Bk0G_Ki8aLWU",
        "colab": {
          "base_uri": "https://localhost:8080/"
        },
        "outputId": "e62a16e8-8ae0-43c6-d5ad-bde0954623f1"
      },
      "execution_count": null,
      "outputs": [
        {
          "output_type": "execute_result",
          "data": {
            "text/plain": [
              "{'phone': '010-9999-1234', 'birth': '1118'}"
            ]
          },
          "metadata": {},
          "execution_count": 20
        }
      ]
    },
    {
      "cell_type": "code",
      "source": [
        "li = ['a', 'b', 'c', 'd', 'e']\n",
        "dic.fromkeys(li) #list dictionary 반복문에서 중요\n",
        "\n",
        "dic.pop('name','default') #'pey' key값의 value값을 return하고 지운다. 'default' 자리에 키가 없을 때 return할 값을 지정가능\n",
        "dic.popitem('name') #('name','pey') tuple형태로 key와 value값을 return하고 지운다."
      ],
      "metadata": {
        "id": "O2dyexUETjGP"
      },
      "execution_count": null,
      "outputs": []
    },
    {
      "cell_type": "markdown",
      "source": [
        "##2.5 set"
      ],
      "metadata": {
        "id": "KznhWyq3c3DL"
      }
    },
    {
      "cell_type": "code",
      "source": [
        "#중복을 허용하지 않으며 순서가 없다\n",
        "s1 = set([1, 2, 3, 4, 5, 6])\n",
        "s2 = set([4, 5, 6, 7, 8, 9])\n",
        "\n",
        "s1&s2\n",
        "s1.intersection(s2)\n",
        "\n",
        "s1|s2\n",
        "s1.union(s2)\n",
        "\n",
        "s1-s2\n",
        "s1.difference(s2)\n",
        "\n",
        "s1.add(10)\n",
        "s1.update([10,11,12]) #안에 인수로 list, tuple, set값을 받을 수 있음\n",
        "\n",
        "s1.remove(1)"
      ],
      "metadata": {
        "id": "EXMAZM7Sekdp"
      },
      "execution_count": null,
      "outputs": []
    },
    {
      "cell_type": "code",
      "source": [
        "#형변환 가능\n",
        "a=[1,2,3]\n",
        "b=tuple(a)\n",
        "c=set(a)\n",
        "a=list(b)"
      ],
      "metadata": {
        "colab": {
          "base_uri": "https://localhost:8080/"
        },
        "id": "kgUG8Faac409",
        "outputId": "13ee5a57-4fe8-4d02-bbea-298db88a998e"
      },
      "execution_count": null,
      "outputs": [
        {
          "output_type": "stream",
          "name": "stdout",
          "text": [
            "(1, 2, 3)\n",
            "{1, 2, 3}\n"
          ]
        }
      ]
    },
    {
      "cell_type": "markdown",
      "source": [
        "##2.6 list comprehension"
      ],
      "metadata": {
        "id": "4oUEVRTLgKgp"
      }
    },
    {
      "cell_type": "code",
      "source": [
        "def method(a):\n",
        "  return a\n",
        "\n",
        "a=[method(i) for i in range(100) if i % 2==0]\n",
        "\n",
        "b=[i*j for i in [1,2,3,4] for j in [1,2]]  #[1,2,2,4,3,6,4,8] # for i 문 아래 for j 문 형식\n",
        "\n",
        "arr = [[1, 2, 3],\n",
        "       [4, 5, 6],\n",
        "       [7, 8, 9],\n",
        "       [10, 11, 12],\n",
        "      ]\n",
        "c=[[n ** 2 for n in row] for row in arr]\n",
        "\n",
        "d = []\n",
        "for i in range(10):\n",
        "  if i%3 == 1:\n",
        "    d.append(i)\n",
        "  elif i%3 == 2:\n",
        "    d.append(i*10)\n",
        "  else:\n",
        "    d.append(i*100)\n",
        "\n",
        "d = [i if i%3 == 1 else i*10 if i%3 == 2 else i*100 for i in range(10)]"
      ],
      "metadata": {
        "colab": {
          "base_uri": "https://localhost:8080/"
        },
        "id": "A3vAlIKtgN7h",
        "outputId": "55586b53-2f57-4e95-c4b7-67d9b48e4b2d"
      },
      "execution_count": null,
      "outputs": [
        {
          "output_type": "stream",
          "name": "stdout",
          "text": [
            "[[1, 4, 9], [16, 25, 36], [49, 64, 81], [100, 121, 144]]\n"
          ]
        }
      ]
    },
    {
      "cell_type": "code",
      "source": [
        "#set dic tuple 확장\n",
        "set1 = {n ** 2 for n in range(10)}\n",
        "\n",
        "from string import ascii_lowercase as LOWERS\n",
        "\n",
        "dic1 = {c: n for c, n in zip(LOWERS, range(1, 27))}\n",
        "\n",
        "tuple1 = tuple(n for n in range(1, 10))\n",
        "\n",
        "tuple2 = (n for n in range(1, 10)) #이렇게 하면 generator가 생성된다. ?generator"
      ],
      "metadata": {
        "id": "zBTCi7G3hvdi"
      },
      "execution_count": null,
      "outputs": []
    },
    {
      "cell_type": "markdown",
      "source": [
        "#3.condition and loop"
      ],
      "metadata": {
        "id": "1nlOIq7XVt1o"
      }
    },
    {
      "cell_type": "markdown",
      "source": [
        "##3.1 condition and loop expression"
      ],
      "metadata": {
        "id": "fg_0HB8mv1K-"
      }
    },
    {
      "cell_type": "code",
      "source": [
        "iterable=['world','airport']\n",
        "if True: # 조건문이 True일때 # and or not 논리곱 논리합 논리부정\n",
        "  print('hello')\n",
        "\n",
        "if 'hello' in iterable: # a in b b안에 a값이 있으면 true\n",
        "  pass\n",
        "elif 'airport' not in iterable:\n",
        "  pass\n",
        "else:\n",
        "  print('world')\n",
        "\n",
        "if not False:\n",
        "  print('bye')\n",
        "\n",
        "for i in iterable: #for문도 continue 사용 가능\n",
        "  print(i)\n",
        "  break\n",
        "\n",
        "n=0\n",
        "while [False]: # True일동안 반복 / list안에 값이 있으므로 True\n",
        "  n+=1\n",
        "  if n >=7:\n",
        "    print('infinity loop')\n",
        "    break # break로 loop 종료\n",
        "  if n %2==0:\n",
        "    continue # 뒤의 코드를 실행하지 않고 while문 처음으로 돌아감 짝수 일경우 print 하지않음\n",
        "  print(n)\n",
        "\n",
        "n=7\n",
        "while True: #True로 while loop를 무한히 돌리게 설정 후\n",
        "  n-=1\n",
        "  if not n : #n이 0이 되면 not n은 True이므로 loop 종료 , 데이터를 뽑아오는 과정에서 뽑아오는 값이 없을 때 None값을 받는다면 마찬가지의 논리로 구현가능\n",
        "    break\n",
        "  print(n)"
      ],
      "metadata": {
        "colab": {
          "base_uri": "https://localhost:8080/"
        },
        "id": "qAxRiE0SpbgM",
        "outputId": "20b5efd0-aa38-4300-a366-7f9f02df5133"
      },
      "execution_count": null,
      "outputs": [
        {
          "output_type": "stream",
          "name": "stdout",
          "text": [
            "hello\n",
            "world\n",
            "bye\n",
            "world\n",
            "1\n",
            "3\n",
            "5\n",
            "infinity loop\n",
            "6\n",
            "5\n",
            "4\n",
            "3\n",
            "2\n",
            "1\n"
          ]
        }
      ]
    },
    {
      "cell_type": "markdown",
      "source": [
        "##3.2 keyword and operator"
      ],
      "metadata": {
        "id": "f7mRx8v7v4K_"
      }
    },
    {
      "cell_type": "code",
      "source": [
        "x,y = 1,2\n",
        "x>y\n",
        "x<y\n",
        "x>=y\n",
        "x<=y\n",
        "x==y\n",
        "x!=y\n",
        "\n",
        "x*y\n",
        "x**y #x의 y제곱\n",
        "x/y\n",
        "x//y\n",
        "x%y\n",
        "\n",
        "#재귀적 표현에 유용\n",
        "x+=y\n",
        "x**=y"
      ],
      "metadata": {
        "colab": {
          "base_uri": "https://localhost:8080/"
        },
        "id": "uCEltMFdf8WE",
        "outputId": "2efe9a3f-e720-41b5-cda2-b86df6706b20"
      },
      "execution_count": null,
      "outputs": [
        {
          "output_type": "execute_result",
          "data": {
            "text/plain": [
              "True"
            ]
          },
          "metadata": {},
          "execution_count": 55
        }
      ]
    },
    {
      "cell_type": "code",
      "source": [
        "a=[]\n",
        "b=()\n",
        "c=[]\n",
        "\n",
        "a is c # is a가 b와 같은 객체일 때 True\n",
        "a is not b"
      ],
      "metadata": {
        "colab": {
          "base_uri": "https://localhost:8080/"
        },
        "id": "yDkIMyqmcMUY",
        "outputId": "c168b98b-67f0-4b49-b5d3-5c3c035dfb28"
      },
      "execution_count": null,
      "outputs": [
        {
          "output_type": "stream",
          "name": "stderr",
          "text": [
            "<>:8: SyntaxWarning: \"is not\" with a literal. Did you mean \"!=\"?\n",
            "<>:8: SyntaxWarning: \"is not\" with a literal. Did you mean \"!=\"?\n",
            "<ipython-input-82-af895d85c49b>:8: SyntaxWarning: \"is not\" with a literal. Did you mean \"!=\"?\n",
            "  None is not 1\n"
          ]
        },
        {
          "output_type": "execute_result",
          "data": {
            "text/plain": [
              "True"
            ]
          },
          "metadata": {},
          "execution_count": 82
        }
      ]
    },
    {
      "cell_type": "code",
      "source": [
        "all([True , True , False])\n",
        "any([True , True , False])\n",
        "\n",
        "all([1,2,'t','3']) #iterable을 인수로 받는다."
      ],
      "metadata": {
        "colab": {
          "base_uri": "https://localhost:8080/"
        },
        "id": "mdBcnmYL4Q9B",
        "outputId": "f8ddaa7f-20c6-4adc-cd2c-3da7a4bf111c"
      },
      "execution_count": null,
      "outputs": [
        {
          "output_type": "execute_result",
          "data": {
            "text/plain": [
              "False"
            ]
          },
          "metadata": {},
          "execution_count": 12
        }
      ]
    },
    {
      "cell_type": "markdown",
      "source": [
        "##3.3 try except else finally"
      ],
      "metadata": {
        "id": "bHOSYrpIv9L1"
      }
    },
    {
      "cell_type": "code",
      "source": [
        "try:\n",
        "  3/0\n",
        "except:\n",
        "  print('sorry for error')\n",
        "\n",
        "try:\n",
        "  3/0\n",
        "except ZeroDivisionError: # pass를 통해 error를 그냥 회피할 수 있다.\n",
        "  print('sorry for error')\n",
        "\n",
        "try:\n",
        "  3/0\n",
        "except ZeroDivisionError as e: #오류변수를 통해서 오류메시지 출력\n",
        "  print('sorry for error')\n",
        "  print(e)\n",
        "\n",
        "try:\n",
        "    a = [1,2]\n",
        "    print(a[3]) #인덱싱 오류가 먼저 발생했으므로 ZeroDivisionError는 발생하지 않음\n",
        "    4/0\n",
        "except (ZeroDivisionError, IndexError) as e:\n",
        "    print(e)"
      ],
      "metadata": {
        "colab": {
          "base_uri": "https://localhost:8080/"
        },
        "id": "zSFOuSMXpZZT",
        "outputId": "52a3ff3d-200c-4f00-b50b-9e24988401a8"
      },
      "execution_count": null,
      "outputs": [
        {
          "output_type": "stream",
          "name": "stdout",
          "text": [
            "sorry for error\n",
            "sorry for error\n",
            "sorry for error\n",
            "division by zero\n",
            "list index out of range\n"
          ]
        }
      ]
    },
    {
      "cell_type": "code",
      "source": [
        "try:\n",
        "    age=int(input('나이를 입력하세요: '))\n",
        "except:\n",
        "    print('입력이 정확하지 않습니다.')\n",
        "else: #오류가 발생하지 않았을때 실행\n",
        "    if age <= 18:\n",
        "        print('미성년자는 출입금지입니다.')\n",
        "    else:\n",
        "        print('환영합니다.')\n",
        "finally: #error 발생 여부에 관계없이 항상 실행\n",
        "  print('다음 손님을 위해 자리를 이동해주세요')"
      ],
      "metadata": {
        "colab": {
          "base_uri": "https://localhost:8080/"
        },
        "id": "N90kNHnK0ks5",
        "outputId": "9448c270-aa80-4cdc-8650-1160c1821b06"
      },
      "execution_count": null,
      "outputs": [
        {
          "output_type": "stream",
          "name": "stdout",
          "text": [
            "나이를 입력하세요: 5\n",
            "미성년자는 출입금지입니다.\n",
            "다음 손님을 위해 자리를 이동해주세요\n"
          ]
        }
      ]
    },
    {
      "cell_type": "code",
      "source": [
        "#error 고의적 발생시키기\n",
        "class Bird:\n",
        "    def fly(self):\n",
        "        raise NotImplementedError # raise method는 뒤의 error를 발생시킨다\n",
        "#NotImplementedError는 파이썬에 이미 정의되어 있는 오류로, 꼭 작성해야 하는 부분이 구현되지 않았을 경우 일부러 오류를 발생시키기 위해 사용한다.\n",
        "\n",
        "class Eagle(Bird):\n",
        "    pass\n",
        "\n",
        "eagle = Eagle()\n",
        "eagle.fly()"
      ],
      "metadata": {
        "colab": {
          "base_uri": "https://localhost:8080/",
          "height": 297
        },
        "id": "vPcrXAJ02Cl5",
        "outputId": "d9981ec9-269f-4ca0-a862-42d092c4fac3"
      },
      "execution_count": null,
      "outputs": [
        {
          "output_type": "error",
          "ename": "NotImplementedError",
          "evalue": "",
          "traceback": [
            "\u001b[0;31m---------------------------------------------------------------------------\u001b[0m",
            "\u001b[0;31mNotImplementedError\u001b[0m                       Traceback (most recent call last)",
            "\u001b[0;32m<ipython-input-88-5d133863383d>\u001b[0m in \u001b[0;36m<cell line: 10>\u001b[0;34m()\u001b[0m\n\u001b[1;32m      8\u001b[0m \u001b[0;34m\u001b[0m\u001b[0m\n\u001b[1;32m      9\u001b[0m \u001b[0meagle\u001b[0m \u001b[0;34m=\u001b[0m \u001b[0mEagle\u001b[0m\u001b[0;34m(\u001b[0m\u001b[0;34m)\u001b[0m\u001b[0;34m\u001b[0m\u001b[0;34m\u001b[0m\u001b[0m\n\u001b[0;32m---> 10\u001b[0;31m \u001b[0meagle\u001b[0m\u001b[0;34m.\u001b[0m\u001b[0mfly\u001b[0m\u001b[0;34m(\u001b[0m\u001b[0;34m)\u001b[0m\u001b[0;34m\u001b[0m\u001b[0;34m\u001b[0m\u001b[0m\n\u001b[0m",
            "\u001b[0;32m<ipython-input-88-5d133863383d>\u001b[0m in \u001b[0;36mfly\u001b[0;34m(self)\u001b[0m\n\u001b[1;32m      1\u001b[0m \u001b[0;32mclass\u001b[0m \u001b[0mBird\u001b[0m\u001b[0;34m:\u001b[0m\u001b[0;34m\u001b[0m\u001b[0;34m\u001b[0m\u001b[0m\n\u001b[1;32m      2\u001b[0m     \u001b[0;32mdef\u001b[0m \u001b[0mfly\u001b[0m\u001b[0;34m(\u001b[0m\u001b[0mself\u001b[0m\u001b[0;34m)\u001b[0m\u001b[0;34m:\u001b[0m\u001b[0;34m\u001b[0m\u001b[0;34m\u001b[0m\u001b[0m\n\u001b[0;32m----> 3\u001b[0;31m         \u001b[0;32mraise\u001b[0m \u001b[0mNotImplementedError\u001b[0m \u001b[0;31m# raise method는 뒤의 error를 발생시킨다\u001b[0m\u001b[0;34m\u001b[0m\u001b[0;34m\u001b[0m\u001b[0m\n\u001b[0m\u001b[1;32m      4\u001b[0m \u001b[0;31m#NotImplementedError는 파이썬에 이미 정의되어 있는 오류로, 꼭 작성해야 하는 부분이 구현되지 않았을 경우 일부러 오류를 발생시키기 위해 사용한다.\u001b[0m\u001b[0;34m\u001b[0m\u001b[0;34m\u001b[0m\u001b[0m\n\u001b[1;32m      5\u001b[0m \u001b[0;34m\u001b[0m\u001b[0m\n",
            "\u001b[0;31mNotImplementedError\u001b[0m: "
          ]
        }
      ]
    },
    {
      "cell_type": "code",
      "source": [
        "class Eagle(Bird):\n",
        "    def fly(self):\n",
        "        print(\"very fast\")\n",
        "\n",
        "eagle = Eagle()\n",
        "eagle.fly()\n",
        "# 자식 class가 fly함수를 반드시 overriding하도록 강제시키고 싶어서 부모 class에 강제로 error를 발생시킨다."
      ],
      "metadata": {
        "colab": {
          "base_uri": "https://localhost:8080/"
        },
        "id": "iL93f7O62L2e",
        "outputId": "bf333c95-e487-4453-dfa8-a2ba9b0d3ab0"
      },
      "execution_count": null,
      "outputs": [
        {
          "output_type": "stream",
          "name": "stdout",
          "text": [
            "very fast\n"
          ]
        }
      ]
    },
    {
      "cell_type": "code",
      "source": [
        "#예외만들기\n",
        "class MyError(Exception):\n",
        "  def __str__(self):\n",
        "    return 'warning error'\n",
        "\n",
        "def say_nick(nick):\n",
        "    if nick == '바보':\n",
        "        raise MyError()\n",
        "    print(nick)\n",
        "\n",
        "try:\n",
        "    say_nick(\"천사\")\n",
        "    say_nick(\"바보\")\n",
        "except MyError as e:\n",
        "    print(e)"
      ],
      "metadata": {
        "colab": {
          "base_uri": "https://localhost:8080/"
        },
        "id": "m_Z4_zzi2mSs",
        "outputId": "5f3180e9-6bad-4b81-aa14-923262a0b59d"
      },
      "execution_count": null,
      "outputs": [
        {
          "output_type": "stream",
          "name": "stdout",
          "text": [
            "천사\n",
            "warning error\n"
          ]
        }
      ]
    },
    {
      "cell_type": "markdown",
      "source": [
        "#4.method"
      ],
      "metadata": {
        "id": "5-RtEjmSVwl5"
      }
    },
    {
      "cell_type": "markdown",
      "source": [
        "\n",
        "\n",
        "```\n",
        "# 코드로 형식 지정됨\n",
        "```\n",
        "\n",
        "##4.1 function expression"
      ],
      "metadata": {
        "id": "7JnOxpdNvCk_"
      }
    },
    {
      "cell_type": "markdown",
      "source": [
        "파이썬의 함수는 'function' 클래스의 객체"
      ],
      "metadata": {
        "id": "mND_oZt0zVBc"
      }
    },
    {
      "cell_type": "code",
      "source": [
        "def method_name(a,b=3,c='사랑'): #c=사랑 default , parameter를 초기회하는 개념, 단 초기화하는 parameter는 항상 끝에 위치해야함 중간 값을 생략하면 어떤 parameter인지 식별힘듬\n",
        "  print(f'{a}는 {b}를 {c}해')\n",
        "  return (a,b,c) #return은 function를 종료시키고 즉시 빠져나간다.\n",
        "\n",
        "method_name(1,2) #끝에서부터 초기화 parameter를 채우는건 상관없지만 실사용에 제약이 있음 항상 끝에 있는게 먼저 생략 취급\n",
        "\n",
        "#인수, return이 없어도 된다.\n",
        "#매개변수(parameter)는 함수에 입력으로 전달된 값을 받는 변수, 인수(argument)는 함수를 호출할 때 전달하는 입력값"
      ],
      "metadata": {
        "colab": {
          "base_uri": "https://localhost:8080/"
        },
        "id": "OGp71nvLuShf",
        "outputId": "1a8b0d04-af82-4f76-9c2a-15a999f63c7c"
      },
      "execution_count": null,
      "outputs": [
        {
          "output_type": "stream",
          "name": "stdout",
          "text": [
            "1는 2를 사랑해\n"
          ]
        },
        {
          "output_type": "execute_result",
          "data": {
            "text/plain": [
              "(1, 2, '사랑')"
            ]
          },
          "metadata": {},
          "execution_count": 111
        }
      ]
    },
    {
      "cell_type": "code",
      "source": [
        "def printx(i):\n",
        "  print(i)\n",
        "  return\n",
        "\n",
        "def printy(i):\n",
        "  return print(i)\n",
        "\n",
        "printx(1)\n",
        "printy(2)\n",
        "\n",
        "global x\n",
        "#전역변수, 지역변수\n",
        "#함수 내에서 전역변수를 사용하거나 전역변수에 값을 할당할 때 사"
      ],
      "metadata": {
        "colab": {
          "base_uri": "https://localhost:8080/"
        },
        "id": "PnLuLoVFue8y",
        "outputId": "9dfae031-5271-4527-99d7-c2f1c44c7147"
      },
      "execution_count": null,
      "outputs": [
        {
          "output_type": "stream",
          "name": "stdout",
          "text": [
            "1\n",
            "2\n"
          ]
        }
      ]
    },
    {
      "cell_type": "code",
      "source": [
        "def add_mul(choice, *args): # *매개변수 표현으로 인수를 여러개 받아올 수 있다.\n",
        "  if choice == \"add\":   # 매개변수 choice에 \"add\"를 입력받았을 때\n",
        "    result = 0\n",
        "    for i in args:\n",
        "      result = result + i\n",
        "  elif choice == \"mul\":   # 매개변수 choice에 \"mul\"을 입력받았을 때\n",
        "    result = 1\n",
        "    for i in args:\n",
        "      result = result * i\n",
        "  return result"
      ],
      "metadata": {
        "id": "l8hPfLHuAlKT"
      },
      "execution_count": null,
      "outputs": []
    },
    {
      "cell_type": "code",
      "source": [
        "#키워드 매개변수\n",
        "def kwargs(**kwargs):\n",
        "  return kwargs\n",
        "\n",
        "print(kwargs(name='foo', age=3)) #{'age': 3, 'name': 'foo'}\n",
        "print(type(kwargs(name='foo', age=3))) #dictionary type\n"
      ],
      "metadata": {
        "colab": {
          "base_uri": "https://localhost:8080/"
        },
        "id": "V5ZNz925B0k1",
        "outputId": "66c03a87-48a3-4f0a-8e70-b68f32faaa20"
      },
      "execution_count": null,
      "outputs": [
        {
          "output_type": "stream",
          "name": "stdout",
          "text": [
            "{'name': 'foo', 'age': 3}\n",
            "<class 'dict'>\n"
          ]
        }
      ]
    },
    {
      "cell_type": "code",
      "source": [
        "#재귀호출\n",
        "def factorial(n):\n",
        "    if n == 1:      # n이 1일 때\n",
        "        return 1    # 1을 반환하고 재귀호출을 끝냄\n",
        "    return n * factorial(n - 1)    # n과 factorial 함수에 n - 1을 넣어서 반환된 값을 곱함\n",
        "\n",
        "print(factorial(5))"
      ],
      "metadata": {
        "colab": {
          "base_uri": "https://localhost:8080/"
        },
        "id": "Qa-D2aePV8OB",
        "outputId": "89c19fcb-a844-4cc7-da8e-7b5afbbb1aa2"
      },
      "execution_count": null,
      "outputs": [
        {
          "output_type": "stream",
          "name": "stdout",
          "text": [
            "120\n"
          ]
        }
      ]
    },
    {
      "cell_type": "markdown",
      "source": [
        "##4.2 method in Python"
      ],
      "metadata": {
        "id": "f-4W8_pHvS_M"
      }
    },
    {
      "cell_type": "code",
      "source": [
        "dir([]) #객체가 지닌 변수와 method를 보여줌 # class안에 정의된 function을 method라 부름\n",
        "\n",
        "#enumerate() / list, tuple, string을 인수로 받아서 각 인덱스와 성분을 enumerate 객체로 return /\n",
        "for i, name in enumerate(['body', 'foo', 'bar']):\n",
        "  print(i, name)\n",
        "print(list(enumerate([4,5,6,7])))\n",
        "\n",
        "# set에는 순서가 없지만 enumerte 했을때는 [(0, 'd'), (1, 'c'), (2, 'b'), (3, 'a')] 이렇게 계속 나옴\n",
        "list(enumerate(set(['a','b','a','a','b','c','d'])))\n",
        "\n",
        "#isinstance(object,class) / 인수로 객체, 클래스를 입력으로 받아 객체가 그 클래스의 인스턴스인지를 판단하여 참이면 True, 거짓이면 False를 return\n",
        "class test():\n",
        "  pass\n",
        "\n",
        "obj=test()\n",
        "isinstance(obj, test)\n",
        "isinstance(object, test) #object?\n",
        "\n",
        "#map(function, iterable)\n",
        "def two_times(x):\n",
        "  return x*2\n",
        "\n",
        "print(list(map(two_times, [1, 2, 3, 4]))) #[2,4,6,8]\n",
        "\n",
        "len([1,2,3,4]) #iterable을 인수로 받는다.\n",
        "max([1,2,3,4])\n",
        "min([1,2,3,4])\n",
        "sum([1,2,3,4])\n",
        "pow(2,5) #2의 5제곱 32\n",
        "\n",
        "#range([start,] stop [,step]) / for문없이 작동하지 않음 stop값 제외 , start의 default는 0\n",
        "range(1,20,2)\n",
        "range(4)[2:]\n",
        "\n",
        "round(5.678, 2) #5.68 소수점 2자리까지 반올림\n",
        "\n",
        "#Zip(*iterable) 동일한 개수로 이루어진 데이터들을 묶어서 return\n",
        "list(zip([1, 2, 3], [4, 5, 6])) #[(1, 4), (2, 5), (3, 6)]"
      ],
      "metadata": {
        "colab": {
          "base_uri": "https://localhost:8080/"
        },
        "id": "TLFk7pL0vZjj",
        "outputId": "a424b0b9-751e-435a-cc2d-5590df6a7193"
      },
      "execution_count": null,
      "outputs": [
        {
          "output_type": "stream",
          "name": "stdout",
          "text": [
            "0 body\n",
            "1 foo\n",
            "2 bar\n",
            "[(0, 4), (1, 5), (2, 6), (3, 7)]\n",
            "[2, 4, 6, 8]\n"
          ]
        },
        {
          "output_type": "execute_result",
          "data": {
            "text/plain": [
              "range(1, 20, 2)"
            ]
          },
          "metadata": {},
          "execution_count": 102
        }
      ]
    },
    {
      "cell_type": "code",
      "source": [
        "a=reversed([3,1,2])\n",
        "list(a) # a 자체는 iterator ? iterable과의 차이 / sort와는 달리 list화 해주어야함\n",
        "next(reversed([3,1,2]))\n",
        "\n",
        "# sorted(iterable, key=None, reverse=False) key 정렬기준 reverse 오름차순 default\n",
        "sorted([3, 1, 2]) #[1, 2, 3] sort와의 차이점은 sorted는 새로운 list를 return해줌\n",
        "\n",
        "nested_list=[[5,3],[7,2],[6,1]]\n",
        "\n",
        "sorted_list1=sorted(nested_list) #[[5, 3], [6, 1], [7, 2]]\n",
        "sorted_list2=sorted(nested_list, key=lambda x:x[1]) #[[6, 1], [7, 2], [5, 3]]\n"
      ],
      "metadata": {
        "colab": {
          "base_uri": "https://localhost:8080/"
        },
        "id": "LtXchVL5T6BW",
        "outputId": "28496c46-6b78-49fa-cea9-ebe1e41d39fc"
      },
      "execution_count": null,
      "outputs": [
        {
          "output_type": "stream",
          "name": "stdout",
          "text": [
            "[[5, 3], [6, 1], [7, 2]]\n",
            "[[6, 1], [7, 2], [5, 3]]\n"
          ]
        }
      ]
    },
    {
      "cell_type": "code",
      "source": [
        "#input([prompt]) 입력 인수로 문자열을 전달하면 그 문자열은 프롬프트 / []는 괄호 안의 내용을 생략할 수 있다는 관례 표기법\n",
        "a = input(\"Enter: \")\n",
        "print(a)\n",
        "print(type(a)) # str 취급\n",
        "\n",
        "#print(want [,end=\"\\n\"]) end=' ' 기본값은 줄바꿈\n",
        "print(\"life\" \"is\" \"too short\") #lifeistooshort\n",
        "print(\"life\", \"is\", \"too short\") #life is too short\n",
        "for i in [\"life\", \"is\", \"too short\"]:\n",
        "  print(f'{i}',end='++') #life++is++too short++\n",
        "\n",
        "print(*term) # term이 iterable일 때 unpacking하여 이터러블 객체의 요소들을 여러 변수에 각각 할당하는 것을 의미, term 안의 요소들을 개별적으로 보여줌"
      ],
      "metadata": {
        "colab": {
          "base_uri": "https://localhost:8080/"
        },
        "id": "mvVuIoJ56Sid",
        "outputId": "a4a2da66-9e3e-469d-95a5-2ca78d0491fe"
      },
      "execution_count": null,
      "outputs": [
        {
          "output_type": "stream",
          "name": "stdout",
          "text": [
            "Enter: 3\n",
            "3\n",
            "<class 'str'>\n",
            "lifeistoo short\n",
            "life is too short\n",
            "life++is++too short++"
          ]
        }
      ]
    },
    {
      "cell_type": "code",
      "source": [
        "#lambda 매개변수 : 매개변수를 이용한 표현식\n",
        "a=lambda x,y,z: x*y**z\n",
        "a(1,2,3)\n",
        "\n",
        "b=lambda : print('hello') #매개변수가 없는 형태\n",
        "\n",
        "for i in range(10):\n",
        "  c=lambda : i\n",
        "  print(c())\n",
        "# 뒤 조건식에 x=~ 형태로 x를 새로 정의할 수는 없음 , 표현식이 들어가야함 그냥 =가 안되는것 같기도 이해함\n",
        "#filter(function, iterable) iterable의 각 요소로 function을 호출했을 때 return이 True인 요소만 필터링\n",
        "list(filter(lambda x: x > 0, [1, -3, 2, 0, -5, 6]))"
      ],
      "metadata": {
        "colab": {
          "base_uri": "https://localhost:8080/"
        },
        "id": "eFfI5nig6Nyg",
        "outputId": "7c958efd-dbbc-4b00-c6c8-44b5dbe8cf2b"
      },
      "execution_count": null,
      "outputs": [
        {
          "output_type": "execute_result",
          "data": {
            "text/plain": [
              "[1, 2, 6]"
            ]
          },
          "metadata": {},
          "execution_count": 184
        }
      ]
    },
    {
      "cell_type": "code",
      "source": [
        "# lambda 활용\n",
        "df2=df1.assign(Test=lambda x : x['연령대코드']*100 )  #pandas에서 열 추가 Test라는 열의 값들을 생성하는 방식\n",
        "\n",
        "lambda x : 3 # 3을 return하는 lambda / 결국 x= ~ 형태는 안되지만 어떤 특정값을 return시켜줄수는 있다."
      ],
      "metadata": {
        "id": "1qhwmlA6swyk"
      },
      "execution_count": null,
      "outputs": []
    },
    {
      "cell_type": "code",
      "source": [
        "import os\n",
        "os.path.join()\n",
        "os.listdir()\n",
        "os.path.isfile()\n",
        "os.stat()\n",
        "os.getcwd() # current working directory / !pwd\n",
        "os.rename()\n",
        "os.chdir() #cwd 이동\n",
        "os.system('') #파이썬 실행프로세스에서 자식프로세스 cmd 생성해서 터미널 명령어 실행, exe파일 실행가능\n",
        "os.path.basename()# 경로에서 파일명만 분리\n",
        "os.path.splitext()# 파일명에서 확장자 떼어냄\n",
        "os.path.isdir()# 폴더가 존재한다면"
      ],
      "metadata": {
        "id": "hJzOgpyv0isS"
      },
      "execution_count": null,
      "outputs": []
    },
    {
      "cell_type": "code",
      "source": [
        "from glob import glob\n",
        "# 현재 디렉토리에서 .txt 파일 모두 찾기\n",
        "txt_files = glob('*.txt')\n",
        "\n",
        "# 찾은 파일들을 삭제하기\n",
        "for file in txt_files:\n",
        "    os.remove(file)"
      ],
      "metadata": {
        "id": "VOPfQeCk2nGX"
      },
      "execution_count": null,
      "outputs": []
    },
    {
      "cell_type": "code",
      "source": [
        "#경로문자열을 더할때 사용함\n",
        "dataPath='/content/drive/MyDrive/'  #data의 기본이 되는 경로\n",
        "csvPath1=os.path.join(dataPath, 'seoul.csv')"
      ],
      "metadata": {
        "id": "tLvJy3aN8fuz"
      },
      "execution_count": null,
      "outputs": []
    },
    {
      "cell_type": "markdown",
      "source": [
        "#5 method list"
      ],
      "metadata": {
        "id": "E3vzhMvxxZuU"
      }
    },
    {
      "cell_type": "code",
      "source": [
        "#하나씩 추가"
      ],
      "metadata": {
        "id": "lIA-mAOf4yTP"
      },
      "execution_count": null,
      "outputs": []
    },
    {
      "cell_type": "code",
      "source": [
        "#next(iterable,default)\n",
        "#iterator 공부?\n",
        "a=[i for i in range(4)]\n",
        "for _ in range(10):\n",
        "  print(next(a,10))"
      ],
      "metadata": {
        "colab": {
          "base_uri": "https://localhost:8080/",
          "height": 176
        },
        "id": "4zTodGwuUqnm",
        "outputId": "a58f7bd4-cc11-44fe-8259-c06ecfe41651"
      },
      "execution_count": null,
      "outputs": [
        {
          "output_type": "error",
          "ename": "TypeError",
          "evalue": "'list' object is not an iterator",
          "traceback": [
            "\u001b[0;31m---------------------------------------------------------------------------\u001b[0m",
            "\u001b[0;31mTypeError\u001b[0m                                 Traceback (most recent call last)",
            "\u001b[0;32m<ipython-input-2-1746900e0b96>\u001b[0m in \u001b[0;36m<cell line: 3>\u001b[0;34m()\u001b[0m\n\u001b[1;32m      2\u001b[0m \u001b[0ma\u001b[0m\u001b[0;34m=\u001b[0m\u001b[0;34m[\u001b[0m\u001b[0mi\u001b[0m \u001b[0;32mfor\u001b[0m \u001b[0mi\u001b[0m \u001b[0;32min\u001b[0m \u001b[0mrange\u001b[0m\u001b[0;34m(\u001b[0m\u001b[0;36m4\u001b[0m\u001b[0;34m)\u001b[0m\u001b[0;34m]\u001b[0m\u001b[0;34m\u001b[0m\u001b[0;34m\u001b[0m\u001b[0m\n\u001b[1;32m      3\u001b[0m \u001b[0;32mfor\u001b[0m \u001b[0m_\u001b[0m \u001b[0;32min\u001b[0m \u001b[0mrange\u001b[0m\u001b[0;34m(\u001b[0m\u001b[0;36m10\u001b[0m\u001b[0;34m)\u001b[0m\u001b[0;34m:\u001b[0m\u001b[0;34m\u001b[0m\u001b[0;34m\u001b[0m\u001b[0m\n\u001b[0;32m----> 4\u001b[0;31m   \u001b[0mprint\u001b[0m\u001b[0;34m(\u001b[0m\u001b[0mnext\u001b[0m\u001b[0;34m(\u001b[0m\u001b[0ma\u001b[0m\u001b[0;34m,\u001b[0m\u001b[0;36m10\u001b[0m\u001b[0;34m)\u001b[0m\u001b[0;34m)\u001b[0m\u001b[0;34m\u001b[0m\u001b[0;34m\u001b[0m\u001b[0m\n\u001b[0m",
            "\u001b[0;31mTypeError\u001b[0m: 'list' object is not an iterator"
          ]
        }
      ]
    },
    {
      "cell_type": "code",
      "source": [
        "import time\n",
        "\n",
        "start=time.time()\n",
        "end=time.time()\n",
        "print(end-start) # 코드 연산시간 측정"
      ],
      "metadata": {
        "colab": {
          "base_uri": "https://localhost:8080/"
        },
        "id": "o7Iycz9EHVlY",
        "outputId": "1f005dcf-010d-4b0c-c4e9-7e200b3fe848"
      },
      "execution_count": null,
      "outputs": [
        {
          "output_type": "execute_result",
          "data": {
            "text/plain": [
              "1723022015.9567153"
            ]
          },
          "metadata": {},
          "execution_count": 122
        }
      ]
    },
    {
      "cell_type": "code",
      "source": [
        "import sys\n",
        "#terminal에서 구동시킬 때 프로그램 뒤에 공백으로 인수를 구분하여 받는 module\n",
        "sys.argv[0]\n",
        "sys.argv[1]"
      ],
      "metadata": {
        "id": "IvkPvLldMVC2"
      },
      "execution_count": null,
      "outputs": []
    },
    {
      "cell_type": "markdown",
      "source": [
        "math.ceil()- 올림\n",
        "\n",
        "math.floor()- 내림\n",
        "\n",
        "math.fabs()- 절댓값\n",
        "\n",
        "math.factorial()- !\n",
        "\n",
        "math.sqrt()- 제곱근\n",
        "\n",
        "math.dist()- 유클리드 거리\n",
        "\n",
        "math.gcd()- 최대공약수\n",
        "\n",
        "math.lcm()- 최소공배수\n",
        "\n",
        "math.comb()- 조합 계산\n",
        "\n",
        "math.pi / math.e / math.inf / math.nan"
      ],
      "metadata": {
        "id": "6x1KLNMnq-SY"
      }
    },
    {
      "cell_type": "code",
      "source": [
        "import random as rd\n",
        "\n",
        "rd.seed() #랜덤 시드 설정, 생략 시 시스템 시간 적용, 시드가 같으면 같은 순서로 난수가 발생\n",
        "\n",
        "rd.random()# 0<=x<=1사이의 실수값 랜덤하게 return\n",
        "\n",
        "#정수생성\n",
        "rd.randrange(1,11,2) #1,3,5,7,9 중 1개 # randrange(strat=0,end,step=1)\n",
        "rd.randint(2,5) # 2<=x<=5 를 만족하는 랜덤 정수값\n",
        "\n",
        "li=[1,2,3,4,5]\n",
        "\n",
        "rd.chocie(li) # li에서 하나의 값 랜덤하게 return\n",
        "rd.choices(li, k=2, weights=[5,1,1,1,1]) # 중복을 허락하고 li에서 k 개수만큼 랜덤하게 뽑음 / weights 이용가능\n",
        "rd.sample(li,k=2) #중복을 허락하지 않고 li에서 k 개수만큼 랜덤하게 뽑기\n",
        "\n",
        "rd.shuffle() #li를 랜덤한 순서로 섞기"
      ],
      "metadata": {
        "id": "vDwlx3hKq1GI"
      },
      "execution_count": null,
      "outputs": []
    },
    {
      "cell_type": "code",
      "source": [
        "from collections import Counter\n",
        "#Counter() 주어진 시퀀스의 요소를 key로 하고 해당 요소의 개수를 값으로 하는 Counter객체 생성\n",
        "#시퀀스 {'a':2,'b':1} / 'aab' / (a=5,b=1)/ ['a','a','b']\n",
        "counter1=Counter({\"a\":1,\"b\":3,\"c\":4})\n",
        "counter2=Counter({\"a\":1,\"b\":2})\n",
        "\n",
        "counter1 + counter2 #Counter({'b': 5, 'c': 4, 'a': 2})\n",
        "counter2 - counter1 #Counter() #0이 거나 음수인 값은 결과에 표시되지 않는다.\n",
        "counter1 & counter2 #Counter({'a': 1, 'b': 2}) 교집합\n",
        "counter1 | counter2 #Counter({'a': 1, 'c': 4, 'b': 3}) 합집합\n",
        "counter1==counter2 #False / 같은 값끼리 비교 c는 없으면 0 취급\n",
        "counter1>=counter2 #True\n",
        "\n",
        "\n",
        "list(counter1.elements()) #['a', 'b', 'b', 'b', 'c', 'c', 'c', 'c']\n",
        "counter1.total() #8\n",
        "counter1.items() #dict_items([('a', 1), ('b', 3), ('c', 4)])\n",
        "counter1.values() #dict_values([1, 3, 4])\n",
        "counter1.keys() #dict_keys(['a', 'b', 'c'])\n",
        "counter1.most_common(2) #[('c', 4),('b', 3),]\n",
        "counter1.get('a') #1 / counter1['a']"
      ],
      "metadata": {
        "id": "Ol0h-A-0iRI2",
        "colab": {
          "base_uri": "https://localhost:8080/"
        },
        "outputId": "994ad1b2-b2df-467c-8dc5-b7f324092137"
      },
      "execution_count": null,
      "outputs": [
        {
          "output_type": "stream",
          "name": "stdout",
          "text": [
            "['a', 'b', 'b', 'b', 'c', 'c', 'c', 'c']\n",
            "dict_items([('a', 1), ('b', 3), ('c', 4)])\n",
            "dict_values([1, 3, 4])\n",
            "dict_keys(['a', 'b', 'c'])\n"
          ]
        }
      ]
    },
    {
      "cell_type": "code",
      "source": [
        "from itertools import repeat, count, cycle\n",
        "\n",
        "repeat1=repeat(1) # 무한히 가능   # 1111111111...\n",
        "repeat2=repeat('abc',5) #5번 초과한 반복을 수행하면 error발생 # abcabcabcabcabc\n",
        "\n",
        "for _ in range(10):\n",
        "  print(next(repeat1), end='')\n",
        "\n",
        "#숫자 타입 증가하며 무한 반복\n",
        "count1=count() #1,2,3,4,5,6,...\n",
        "count2=count(10) #10,11,12....\n",
        "count3=count(10,2) #10,12,14,...\n",
        "count4=count(10.0,0.1)#10.0,10.1,10.2,...\n",
        "\n",
        "for _ in range(10):\n",
        "  print(next(count1), end='')\n",
        "\n",
        "#iterable data 쪼개면서 무한반복\n",
        "cycle1=cycle('abc') #a,b,c,a,b,c,...\n",
        "cycle2=cycle([1,2,3]) #1,2,3,1,2,3,1,2,3,...\n",
        "\n",
        "for _ in range(10):\n",
        "  print(next(cycle1), end='')"
      ],
      "metadata": {
        "colab": {
          "base_uri": "https://localhost:8080/"
        },
        "id": "BrkR69CazFYb",
        "outputId": "d39a54c0-f127-4e10-c4ae-345283de0caf"
      },
      "execution_count": null,
      "outputs": [
        {
          "output_type": "stream",
          "name": "stdout",
          "text": [
            "1\n",
            "1\n",
            "1\n",
            "1\n",
            "1\n",
            "1\n",
            "1\n",
            "1\n",
            "1\n",
            "1\n"
          ]
        }
      ]
    },
    {
      "cell_type": "code",
      "source": [
        "from itertools import product, permutations, combinations, combinations_with_replacement\n",
        "\n",
        "iter1=product(['a','b','c','d'],[1,2]) #데카르트곱 #('a', 1)('a', 2)('b', 1)('b', 2)('c', 1)('c', 2)('d', 1)('d', 2)\n",
        "iter2=product(['a','b','c','d'],repeat=2) #순서o 중복o\n",
        "iter3=permutations(['a','b','c','d'],2) #순서o 중복x 순열\n",
        "iter4=combinations(['a','b','c','d'],2) #순서x 중복x 조합\n",
        "iter5=combinations_with_replacement(['a','b','c','d'],2) #순서x 중복o\n",
        "#('a', 'a')('a', 'b')('a', 'c')('a', 'd')('b', 'b')('b', 'c')('b', 'd')('c', 'c')('c', 'd')('d', 'd')\n",
        "\n",
        "for i in iter5:\n",
        "  print(i, end='')"
      ],
      "metadata": {
        "colab": {
          "base_uri": "https://localhost:8080/"
        },
        "id": "48Ncn3F5zGKl",
        "outputId": "c47950fa-b7b5-4a5b-c575-e5b5a50353df"
      },
      "execution_count": null,
      "outputs": [
        {
          "output_type": "stream",
          "name": "stdout",
          "text": [
            "('a', 'a')('a', 'b')('a', 'c')('a', 'd')('b', 'b')('b', 'c')('b', 'd')('c', 'c')('c', 'd')('d', 'd')"
          ]
        }
      ]
    },
    {
      "cell_type": "code",
      "source": [
        "# file의 상태를 읽어와서 파일의 마지막 수정시간을 읽어와서 지역기준시간으로 변경\n",
        "file_stat = os.stat(file_path)\n",
        "modified_timestamp = file_stat.st_mtime\n",
        "modified_date = time.strftime('%Y-%m-%d,%H:%M:%S', time.localtime(modified_timestamp))"
      ],
      "metadata": {
        "id": "Fym3b7tZqqIk"
      },
      "execution_count": null,
      "outputs": []
    },
    {
      "cell_type": "code",
      "source": [
        "import shutil\n",
        "\n",
        "diskLabel = 'c:/'\n",
        "total, used, free = shutil.disk_usage(diskLabel) #파티션 용량 읽어오기\n",
        "shutil.rmtree(folderpath) # 파일 존재여부와 상관없이 폴더 삭제"
      ],
      "metadata": {
        "id": "aIRLJ4Oz24Ux"
      },
      "execution_count": null,
      "outputs": []
    },
    {
      "cell_type": "markdown",
      "source": [
        "#6.formatting"
      ],
      "metadata": {
        "id": "USlS20-xV2W2"
      }
    },
    {
      "cell_type": "code",
      "source": [
        "print(\"%10s\" % \"hi\") #10개의 문자열 공간을 생성하고 오른쪽정렬\n",
        "print(\"%-10s\" % \"hi\") #왼쪽정렬\n",
        "print(\"%10s\" % 2) #d ,s 다 되는데 숫자는 문자열 취급이 가능해서 그런듯 원래 정수는 d\n",
        "print(\"%0.4f\" % 3.42134234) #소숫점 4째자리까지\n",
        "print(\"%10.4f\" % 3.42134234) #10개의 공간을 할당하고 소숫점 4째자리까지"
      ],
      "metadata": {
        "colab": {
          "base_uri": "https://localhost:8080/"
        },
        "id": "9tbcv49dNdMa",
        "outputId": "e275a507-5df1-43b7-c59a-f5fb11b62cb3"
      },
      "execution_count": null,
      "outputs": [
        {
          "output_type": "stream",
          "name": "stdout",
          "text": [
            "        hi\n",
            "hi        \n",
            "         2\n",
            "3.4213\n",
            "    3.4213\n"
          ]
        }
      ]
    },
    {
      "cell_type": "code",
      "source": [
        "print(f'{\"hi\":<10}') #왼쪽 정렬\n",
        "print(f'{\"hi\":>10}') #오른쪽 정렬\n",
        "print(f\"{'hi':=^10}\") # : ^ 사이에 기호를 넣으면 그 기호로 빈 공간을 채움 , ' \"를 안밖 구분해서 써주어야함 / ^ 가운데정렬\n",
        "print(f'{3.42134234:10.4f}')  # 소수점 4자리까지 표현하고 총 자리수를 10으로 맞춤"
      ],
      "metadata": {
        "colab": {
          "base_uri": "https://localhost:8080/"
        },
        "id": "UkOw4ecIOmrY",
        "outputId": "3e18e8fd-0c49-4d37-af2f-6ce770626d12"
      },
      "execution_count": null,
      "outputs": [
        {
          "output_type": "stream",
          "name": "stdout",
          "text": [
            "hi        \n",
            "        hi\n",
            "====hi====\n",
            "    3.4213\n"
          ]
        }
      ]
    },
    {
      "cell_type": "code",
      "source": [
        "name, emotion = '나', 99.324234\n",
        "print(f'{\"%10s\"% name:<10}는 너를 {\"%10.4f\"%emotion}% 사랑해')"
      ],
      "metadata": {
        "colab": {
          "base_uri": "https://localhost:8080/"
        },
        "id": "Qu6PupzfRaiQ",
        "outputId": "b487f4df-ee1e-4858-ca27-8166aedf89d0"
      },
      "execution_count": null,
      "outputs": [
        {
          "output_type": "stream",
          "name": "stdout",
          "text": [
            "         나는 너를    99.3242% 사랑해\n"
          ]
        }
      ]
    },
    {
      "cell_type": "code",
      "source": [
        "print(f'{\"abcde\":^50}')\n",
        "print(f'{\"abcdefghijklnmop\":<30}')"
      ],
      "metadata": {
        "colab": {
          "base_uri": "https://localhost:8080/"
        },
        "id": "91u4c8bZSVQj",
        "outputId": "06632b82-813c-41d6-8011-015c7440e966"
      },
      "execution_count": null,
      "outputs": [
        {
          "output_type": "stream",
          "name": "stdout",
          "text": [
            "                      abcde                       \n",
            "abcdefghijklnmop              \n"
          ]
        }
      ]
    },
    {
      "cell_type": "code",
      "source": [
        "def gugudan(a,b):\n",
        "  d=''\n",
        "  for i in range(1,10):\n",
        "    d+='\\n'\n",
        "    for j in range(a,b+1):\n",
        "      c=j*i\n",
        "      d+='%5s' %f'{j} X {i} =' + '%5s' %f'{c}  '\n",
        "  return print(d)\n",
        "\n",
        "gugudan(2,4)"
      ],
      "metadata": {
        "id": "chjvfflRKxwC"
      },
      "execution_count": null,
      "outputs": []
    },
    {
      "cell_type": "markdown",
      "source": [
        "#7.file"
      ],
      "metadata": {
        "id": "x1zyLCWyV0gE"
      }
    },
    {
      "cell_type": "code",
      "source": [
        "fileName='/content/new_text.txt' # 경로 필요\n",
        "f=open(fileName,'w') # 'r' read only / 'w' 리셋하고 새로쓰기, 덮어쓰기 / 'a' 뒤에 내용 추가하기\n",
        "for i in range(1, 11):\n",
        "    data = f\"{i}번째 줄입니다.\\n\"\n",
        "    f.write(data)\n",
        "f.close()\n",
        "\n",
        "#파일이 없을경우 'w', 'a' 는 새로운 파일을 생성함"
      ],
      "metadata": {
        "id": "o-CI-u_CF4hP"
      },
      "execution_count": null,
      "outputs": []
    },
    {
      "cell_type": "code",
      "source": [
        "f=open(fileName, 'r')\n",
        "while True:\n",
        "  line=f.readline()\n",
        "  if not line:\n",
        "    break\n",
        "  print(line,end='') # 문장 자체에 \\n 이 있고 print자체 줄바꿈을 하므로 2번 줄바꿈을 방지하기 위해서 end 옵션 추가\n",
        "f.close()\n",
        "print(2)"
      ],
      "metadata": {
        "colab": {
          "base_uri": "https://localhost:8080/"
        },
        "id": "8v5oyfucH5JI",
        "outputId": "75d5422a-693a-44a6-98da-db9704dd2493"
      },
      "execution_count": null,
      "outputs": [
        {
          "output_type": "stream",
          "name": "stdout",
          "text": [
            "1번째 줄입니다.\n",
            "2번째 줄입니다.\n",
            "3번째 줄입니다.\n",
            "4번째 줄입니다.\n",
            "5번째 줄입니다.\n",
            "6번째 줄입니다.\n",
            "7번째 줄입니다.\n",
            "8번째 줄입니다.\n",
            "9번째 줄입니다.\n",
            "10번째 줄입니다.\n",
            "2\n"
          ]
        }
      ]
    },
    {
      "cell_type": "code",
      "source": [
        "f=open(fileName, 'r')\n",
        "line=f.readlines()\n",
        "f.close()\n",
        "print(line) #list형태\n",
        "\n",
        "f=open(fileName, 'r')\n",
        "line=f.read()\n",
        "f.close()\n",
        "print(line) #str형태\n",
        "type(line)"
      ],
      "metadata": {
        "colab": {
          "base_uri": "https://localhost:8080/"
        },
        "id": "_WLYeX3DLSS9",
        "outputId": "0ac4370d-a682-4f71-8243-21bc3e0564a4"
      },
      "execution_count": null,
      "outputs": [
        {
          "output_type": "stream",
          "name": "stdout",
          "text": [
            "['1번째 줄입니다.\\n', '2번째 줄입니다.\\n', '3번째 줄입니다.\\n', '4번째 줄입니다.\\n', '5번째 줄입니다.\\n', '6번째 줄입니다.\\n', '7번째 줄입니다.\\n', '8번째 줄입니다.\\n', '9번째 줄입니다.\\n', '10번째 줄입니다.\\n']\n",
            "1번째 줄입니다.\n",
            "2번째 줄입니다.\n",
            "3번째 줄입니다.\n",
            "4번째 줄입니다.\n",
            "5번째 줄입니다.\n",
            "6번째 줄입니다.\n",
            "7번째 줄입니다.\n",
            "8번째 줄입니다.\n",
            "9번째 줄입니다.\n",
            "10번째 줄입니다.\n",
            "\n"
          ]
        },
        {
          "output_type": "execute_result",
          "data": {
            "text/plain": [
              "str"
            ]
          },
          "metadata": {},
          "execution_count": 135
        }
      ]
    },
    {
      "cell_type": "code",
      "source": [
        "#file.close()가 필요없는 형태\n",
        "with open(fileName, \"w\") as f:\n",
        "    f.write(\"Life is too short\\n you need python\")\n",
        "\n",
        "g=open(fileName, \"r\")\n",
        "for line in g:\n",
        "  print(line)"
      ],
      "metadata": {
        "colab": {
          "base_uri": "https://localhost:8080/"
        },
        "id": "S50Zofp_LrGh",
        "outputId": "c8e96e8c-7465-448e-847c-a1ebfcc911bb"
      },
      "execution_count": null,
      "outputs": [
        {
          "output_type": "stream",
          "name": "stdout",
          "text": [
            "Life is too short\n",
            "\n",
            " you need python\n"
          ]
        }
      ]
    },
    {
      "cell_type": "code",
      "source": [
        "#f.write(str) / f.writelines(list)\n",
        "data=[\"Life is too short\\n you need python\"]\n",
        "with open(fileName, \"w\") as f:\n",
        "    f.writelines(data)\n",
        "\n",
        "g=open(fileName, \"r\")\n",
        "for line in g:\n",
        "  print(line)"
      ],
      "metadata": {
        "colab": {
          "base_uri": "https://localhost:8080/"
        },
        "id": "PThZCCFAZWOL",
        "outputId": "d67029cd-91a6-4830-b4d2-3363c35c7ef5"
      },
      "execution_count": null,
      "outputs": [
        {
          "output_type": "stream",
          "name": "stdout",
          "text": [
            "Life is too short\n",
            "\n",
            " you need python\n"
          ]
        }
      ]
    },
    {
      "cell_type": "markdown",
      "source": [
        "#8.class"
      ],
      "metadata": {
        "id": "tPvlgmzuV4Y0"
      }
    },
    {
      "cell_type": "markdown",
      "source": [
        "##8.1 class definition"
      ],
      "metadata": {
        "id": "f_k2sL2C0jnS"
      }
    },
    {
      "cell_type": "code",
      "source": [
        "#class활용할때 인스턴스를 따로안만들어주고 바로 MYerror()라고 클래스 불러와도 되나 객체 생성이 안되있는거아냐?\n",
        "#self :class의 instance를 나타냄\n",
        "\n",
        "#오버라이딩"
      ],
      "metadata": {
        "id": "21ETYK-03GnZ"
      },
      "execution_count": null,
      "outputs": []
    },
    {
      "cell_type": "code",
      "source": [
        "class Myclass(): # (상속을 해줄 부모class)\n",
        "  field=\"\"\n",
        "  def method1(self):\n",
        "    print(f'hi my name is {self.name}')\n",
        "\n",
        "p1=Myclass() # p1은 객체이며 Myclass의 instance\n",
        "p1.name=\"cocktail\"\n",
        "p1.method1()\n",
        "\n",
        "class Myclass2 :\n",
        "  def __init__(self,name):  #생성자 class의 instance를 생성할 때 호출되는 method / return 값은 없\n",
        "    self.name=name\n",
        "  def method1(self):\n",
        "    print(f'hi my name is {self.name}')\n",
        "\n",
        "p2=Myclass2(\"cocktail2\")\n",
        "p2.method1()\n",
        "\n",
        "class student(Myclass2):\n",
        "  def __init__(self,name,id):\n",
        "    super().__init__(name) #super 부모 class의 method나 field에 접근할 수 있고 자식 class의 생성자나 method에서 사용 / ? 자식 class의 field에서는 못쓰는건가?\n",
        "    self.id=id\n",
        "\n",
        "  def method1(self):\n",
        "    print(f'hi my id is {self.id}')\n",
        "\n",
        "p3=student(\"cocktail\",\"23\")\n",
        "p3.method1()"
      ],
      "metadata": {
        "colab": {
          "base_uri": "https://localhost:8080/"
        },
        "id": "FDoMSlN3is19",
        "outputId": "a36e7f2c-3075-4a8b-dc43-ef6e35b9c5f3"
      },
      "execution_count": null,
      "outputs": [
        {
          "output_type": "stream",
          "name": "stdout",
          "text": [
            "hi my name is cocktail\n",
            "hi my name is cocktail2\n",
            "hi my id is 23\n"
          ]
        }
      ]
    },
    {
      "cell_type": "markdown",
      "source": [
        "##8.2 magic method\n",
        "__init__, __str__, __main__, __name__ , __call__, __getattribute__\n",
        "\n",
        "1.함수의 호출 '( )' 왜 '( )' -> 클래스(타입)의 객체에 '( )'를 붙여주면 해당 클래스에 정의된 매직 메소드인 __call__ 호출\n",
        "<br>  \n",
        "2.'.'을 찍으면 클래스의 __getattribute__ 가 호출됨\n",
        "<br>  \n",
        "3.__str__은 객체의 문자열 표현을 정의하는 메서드\n",
        "<br>  \n",
        "4.__name__ : 모듈이 직접 실행될 때 __name__이 \"__main__\"으로 설정\n",
        "모듈이 다른 모듈에서 import 때는 모듈의 파일 이름(확장자 제외)\n",
        "\n",
        "ex) Mypython.py 가 다른 파일에서 import 되면 __name__ = Mypython\n",
        "\"__main__\" 은 파이썬 스크립트가 직접 실행될 때의 모듈 이름"
      ],
      "metadata": {
        "id": "Conn4n4v0VVo"
      }
    },
    {
      "cell_type": "code",
      "source": [
        "class User:\n",
        "  def __init__(self):\n",
        "    self.name={}\n",
        "  def __gettiem__(self, item):\n",
        "    return self.name[item]\n",
        "  def __setitem__(self, key, value):\n",
        "    self.name[key]=value\n",
        "\n",
        "#dictionary로서 기능하게 만들어 줌"
      ],
      "metadata": {
        "id": "VbMxrej62_2U"
      },
      "execution_count": null,
      "outputs": []
    },
    {
      "cell_type": "code",
      "source": [
        "if __name__ == \"__main__\": #구문을 통해 이 코드가 직접 실행될 때의 동작을 설정가능"
      ],
      "metadata": {
        "id": "LVCNVHWJATLo"
      },
      "execution_count": null,
      "outputs": []
    },
    {
      "cell_type": "markdown",
      "source": [
        "#9.module"
      ],
      "metadata": {
        "id": "6Hah4jHHV6N2"
      }
    },
    {
      "cell_type": "code",
      "source": [
        "!pip list #설치된 패키지 확인\n",
        "pd.__version__ #패키지 버전 확인"
      ],
      "metadata": {
        "id": "TqdvkUkvAQnj"
      },
      "execution_count": null,
      "outputs": []
    },
    {
      "cell_type": "markdown",
      "source": [
        "## 9.1 datatime"
      ],
      "metadata": {
        "id": "gYGfAIXErRv7"
      }
    },
    {
      "cell_type": "code",
      "source": [
        "import datatime as dt # 수정해야함 밑에\n",
        "\n",
        "now=datetime.datetime.now()\n",
        "now.strftime('%Y-%m-%d %H:%M:%S') #2024-08-16 09:56:23\n",
        "\n",
        "dats = datetime.datetime(2023, 11, 22, 10, 30, 0)\n",
        "dats2= datetime.time(10,30,0)\n",
        "\n",
        "new=datetime.datetime(2021,9,1,12,30,45)\n",
        "tomorrow= now+ datetime.timedelta(days=1)\n",
        "\n",
        "date_string= \"2021-09-01 12:30:45\" #문자열을 datetime으로 바꾸어줌\n",
        "date=datetime.datetime.strptime(date_string,\"%Y-%m-%d %H:%M:%S\")\n",
        "\n",
        "now.year\n",
        "now.month\n",
        "now.day\n",
        "now.hour\n",
        "now.minute\n",
        "now.second #이건 속성임\n",
        "now.time() #이건 메소드임\n",
        "now.weekday()\n",
        "\n",
        "now.replace(year=2023, day=3) #datetime 시간 변경\n",
        "dt.datetime.weekday(now) #0~6 월~일\n",
        "now.timestamp() #timestamp 객체로 바꿔줌 1970 1.1 0 UTC 부터 지난 시간을 숫자로 리턴해줌. 따라서 숫자 대소 비교 하기 용이\n",
        "\n",
        "dt.timedelta(hours=2) # days=2, minutes=30 시간간격 / dt.timedelta(hours=2)*3 도 가능\n",
        "\n",
        "dt.to_period() #'D': 일 단위 'M': 월 단위 'Y': 년 단위 'H': 시간 'Q': 분기 'W': 주 / 연속적인 시간데이터를 특정 주기만큼 묶어서 비교하기 용이\n",
        "monthly = df_Jang.groupby(df_Jang['사용일시'].dt.to_period('M'))['승인금액'].sum()\n",
        "\n",
        "#dt 지금까지 다 잘못사용한듯? 체크\n",
        "#dataframe에 dt하고 쓰는건 .str처럼 시리즈에서 객체를 불러오기위해서임"
      ],
      "metadata": {
        "id": "hijLC-gfrQfM"
      },
      "execution_count": null,
      "outputs": []
    },
    {
      "cell_type": "code",
      "source": [
        "start_time = pd.to_datetime('07:00:00', format='%H:%M:%S').time()  #제대로 읽어오라고 format 지정 / .time()으로 읽어오는 것 그 이유는 dataframe이 아니기 때문\n",
        "end_time = pd.to_datetime('20:00:00', format='%H:%M:%S').time() # time해줘야 하는 이유는 foramt에 연월정보 입력 안되있어도 기본으로 1900-01-01 세팅되기 때문\n",
        "df['부정사용'] = ~df['사용시간'].between(start_time, end_time) #~ not 논리"
      ],
      "metadata": {
        "id": "Z8UhwweCRGhy"
      },
      "execution_count": null,
      "outputs": []
    },
    {
      "cell_type": "code",
      "source": [
        "# str에 - 넣기\n",
        "series = series.apply(lambda x: x[:4] + '-' + x[4:6] + '-' + x[6:])\n",
        "series = series.str.replace(r'(\\d{4})(\\d{2})(\\d{2})', r'\\1-\\2-\\3')"
      ],
      "metadata": {
        "id": "5pn8zKJ9lOfD"
      },
      "execution_count": null,
      "outputs": []
    },
    {
      "cell_type": "markdown",
      "source": [
        "## 9.2 numpy"
      ],
      "metadata": {
        "id": "Xbi1froKrYpJ"
      }
    },
    {
      "cell_type": "code",
      "source": [
        "import numpy as np\n",
        "\n",
        "np.array([1,2,3,4], dtype=int) # 기본적으로 정보를 최대한 손실하지 않는 방향으로 알아서 단일 datatype 정함\n",
        "np.arange(start=0, stop=3,step=1) # 특정 범위 내의 숫자를 일정한 간격으로 생성하여 1차원 배열 return\n",
        "np.random.rand(0,1) # 0과 1사이의 균등분포에서 난수 생성 axb array return\n",
        "np.linspace(10,70,25) #10부터 70까지의 구간을 24개로 나눔\n",
        "np.where(arr > 3, 'high', 'low') #arr가 3보다 크면 high 아니면 low\n",
        "np.where(arr > 3, 'high', arr) #인수에 arr 그대로 넣으면 값 유지\n",
        "np.sort(arr2d, axis=1) #axis=0 행, axis=1 열\n",
        "np.argsort(np.array([5,3,7,1])) #sort해야할 index의 순서 return [3,2,4,1]"
      ],
      "metadata": {
        "colab": {
          "base_uri": "https://localhost:8080/"
        },
        "id": "6qDFZnzLg3hk",
        "outputId": "b9887803-37cc-49cc-9c76-cf75b52c83f6"
      },
      "execution_count": null,
      "outputs": [
        {
          "output_type": "execute_result",
          "data": {
            "text/plain": [
              "array([10. , 12.5, 15. , 17.5, 20. , 22.5, 25. , 27.5, 30. , 32.5, 35. ,\n",
              "       37.5, 40. , 42.5, 45. , 47.5, 50. , 52.5, 55. , 57.5, 60. , 62.5,\n",
              "       65. , 67.5, 70. ])"
            ]
          },
          "metadata": {},
          "execution_count": 7
        }
      ]
    },
    {
      "cell_type": "code",
      "source": [
        "a = np.array([[1, 2, 3],\n",
        "              [2, 3, 4]])\n",
        "b = np.array([[3, 4, 5],\n",
        "              [1, 2, 3]])\n",
        "a*b"
      ],
      "metadata": {
        "colab": {
          "base_uri": "https://localhost:8080/"
        },
        "id": "DRXvDfHWAUHt",
        "outputId": "a0397543-4abf-4115-ec58-1fc16f8c9ffe"
      },
      "execution_count": null,
      "outputs": [
        {
          "output_type": "execute_result",
          "data": {
            "text/plain": [
              "array([[ 3,  8, 15],\n",
              "       [ 2,  6, 12]])"
            ]
          },
          "metadata": {},
          "execution_count": 10
        }
      ]
    },
    {
      "cell_type": "code",
      "source": [
        "a = np.array([[1, 2, 3],\n",
        "              [1, 2, 3],\n",
        "              [2, 3, 4]])\n",
        "b = np.array([[1, 2],\n",
        "              [3, 4],\n",
        "              [5, 6]])\n",
        "np.dot(a, b)"
      ],
      "metadata": {
        "colab": {
          "base_uri": "https://localhost:8080/"
        },
        "id": "sww1TQ6fAUhO",
        "outputId": "13b6a0b5-d140-4567-b19a-aedc8ed2a5cc"
      },
      "execution_count": null,
      "outputs": [
        {
          "output_type": "execute_result",
          "data": {
            "text/plain": [
              "array([[22, 28],\n",
              "       [22, 28],\n",
              "       [31, 40]])"
            ]
          },
          "metadata": {},
          "execution_count": 11
        }
      ]
    },
    {
      "cell_type": "code",
      "source": [
        "np.nan"
      ],
      "metadata": {
        "colab": {
          "base_uri": "https://localhost:8080/"
        },
        "id": "w6kdJrtuWD1V",
        "outputId": "29e8fb12-885d-4b45-d8a8-2f620cd9a5ee"
      },
      "execution_count": null,
      "outputs": [
        {
          "output_type": "execute_result",
          "data": {
            "text/plain": [
              "nan"
            ]
          },
          "metadata": {},
          "execution_count": 37
        }
      ]
    },
    {
      "cell_type": "code",
      "source": [
        "np.random.rand(6,4)\n",
        "np.random.randn(6,4) # 6x4 형태의 표준정규분포 난수 생성\n",
        "np.random.normal(loc=0, scale=1, size=1000) #1000개의 data 평균 0 scale +-1 범위, 정규분포 따름 벗어나는 값 존재\n",
        "np.random.uniform(low=-5, high=5, size=120) # 하한 상한 사이에서 균등하게 분포하는 120개의 데이터 생성"
      ],
      "metadata": {
        "colab": {
          "base_uri": "https://localhost:8080/"
        },
        "id": "OoM2-aKYW9QL",
        "outputId": "af2415b6-5286-458a-8940-5f182ce0ea74"
      },
      "execution_count": null,
      "outputs": [
        {
          "output_type": "execute_result",
          "data": {
            "text/plain": [
              "array([[-0.42947736, -1.09449464, -0.47657978,  0.83134883],\n",
              "       [ 0.89420188, -0.06671027,  1.06933232, -1.07977495],\n",
              "       [ 1.89450847,  0.72293203,  0.24842121,  0.70136198],\n",
              "       [-1.03645698, -1.71361741,  0.35600069,  1.11119891],\n",
              "       [ 1.3939846 , -0.10588154,  0.02657607, -0.6804339 ],\n",
              "       [-1.19735667, -1.03823295,  0.1685701 ,  0.62205118]])"
            ]
          },
          "metadata": {},
          "execution_count": 38
        }
      ]
    },
    {
      "cell_type": "code",
      "source": [
        "np.set_printoptions(suppress=True) # 과학적인 표현법 억제하고 일반적인 소수점 표현"
      ],
      "metadata": {
        "id": "SAYvpBuwQrPF"
      },
      "execution_count": null,
      "outputs": []
    },
    {
      "cell_type": "markdown",
      "source": [
        "## 9.3 pandas"
      ],
      "metadata": {
        "id": "r01C92oIrajZ"
      }
    },
    {
      "cell_type": "code",
      "source": [
        "import pandas as pd # 문자열을 str이 아니라 object라고 표\n",
        "\n",
        "mylist = {1:5, 2:6, 3:7, 4:8}\n",
        "li = [1,2,3,4]\n",
        "index=['a','b','c','d']\n",
        "\n",
        "pd.Series(li,index)\n",
        "pd.DataFrame(li,columns=['number'],index=index)"
      ],
      "metadata": {
        "id": "ShJN7f7pvLB9",
        "colab": {
          "base_uri": "https://localhost:8080/",
          "height": 210
        },
        "collapsed": true,
        "outputId": "8e52e496-a7e7-4399-d9f5-f74ed94536bb"
      },
      "execution_count": null,
      "outputs": [
        {
          "output_type": "execute_result",
          "data": {
            "text/plain": [
              "a    1\n",
              "b    2\n",
              "c    3\n",
              "d    4\n",
              "dtype: int64"
            ],
            "text/html": [
              "<div>\n",
              "<style scoped>\n",
              "    .dataframe tbody tr th:only-of-type {\n",
              "        vertical-align: middle;\n",
              "    }\n",
              "\n",
              "    .dataframe tbody tr th {\n",
              "        vertical-align: top;\n",
              "    }\n",
              "\n",
              "    .dataframe thead th {\n",
              "        text-align: right;\n",
              "    }\n",
              "</style>\n",
              "<table border=\"1\" class=\"dataframe\">\n",
              "  <thead>\n",
              "    <tr style=\"text-align: right;\">\n",
              "      <th></th>\n",
              "      <th>0</th>\n",
              "    </tr>\n",
              "  </thead>\n",
              "  <tbody>\n",
              "    <tr>\n",
              "      <th>a</th>\n",
              "      <td>1</td>\n",
              "    </tr>\n",
              "    <tr>\n",
              "      <th>b</th>\n",
              "      <td>2</td>\n",
              "    </tr>\n",
              "    <tr>\n",
              "      <th>c</th>\n",
              "      <td>3</td>\n",
              "    </tr>\n",
              "    <tr>\n",
              "      <th>d</th>\n",
              "      <td>4</td>\n",
              "    </tr>\n",
              "  </tbody>\n",
              "</table>\n",
              "</div><br><label><b>dtype:</b> int64</label>"
            ]
          },
          "metadata": {},
          "execution_count": 14
        }
      ]
    },
    {
      "cell_type": "code",
      "source": [
        "df = pd.read_csv('http://bit.ly/ds-korean-idol',encoding='CP949')\n",
        "#df2 = pd.read_excel(excelPath,header=2,usecols='B,D,G,J,N',index_col='A') #encoding 옵션 없음\n",
        "# usecols 쓸 때 []도 되는데 칼럼명을 제대로 넣거나 인덱스를 넣어야함 ABC 안됨\n",
        "# inplace=True\n",
        "# 한글 encoding 문제 발생시 'CP949' , 'EUC-KR', 'utf-8'"
      ],
      "metadata": {
        "id": "L0kb44stGCg4"
      },
      "execution_count": null,
      "outputs": []
    },
    {
      "cell_type": "code",
      "source": [
        "df.info()\n",
        "df.shape\n",
        "df.describe()\n",
        "df.head(2)\n",
        "df.tail(2)\n",
        "df.rename(columns={'name':'이름'}).head(2)\n",
        "df.sort_index(ascending=False) #index로 정렬\n",
        "df.sort_values(by=['키','브랜드평판지수'],ascending=False) #value로 정렬 , Nan값은 맨 뒤로 보내고 정렬\n",
        "df.loc[3:8, ['이름', '생년월일']] #loc는 8행이하 #loc는 이름을 지정하는 방식이라 이름 넣은것은 보여줌\n",
        "df.iloc[1:5, [0, 2]] #iloc는 5행미만 # 기존의 인덱스 방식\n",
        "df[ df['키'] > 180 ][['이름', '키']]\n",
        "df.loc[ df['키'] > 180, ['이름', '키']]\n",
        "df['소속사'].isin(['플레디스', 'SM'])\n",
        "df.isnull().sum().sum() #결측치 개수 # sum(axis=0 or 1) sum방향 설정가능 mean(),mode(),median()\n",
        "df.notnull()\n",
        "df['키'].count() # 결측치는 세지 않음\n",
        "df.set_index('키')\n",
        "df.reset_index(drop=True).head(2) # 예전 인덱스 데이터를 지울 때는 drop=True\n",
        "df.T # transpose"
      ],
      "metadata": {
        "colab": {
          "base_uri": "https://localhost:8080/",
          "height": 112
        },
        "collapsed": true,
        "id": "_aglGH88GJ3F",
        "outputId": "b0b32be7-908c-4d8c-8740-21259feaf400"
      },
      "execution_count": null,
      "outputs": [
        {
          "output_type": "execute_result",
          "data": {
            "text/plain": [
              "   index    이름     그룹  소속사  성별        생년월일      키 혈액형   브랜드평판지수\n",
              "0      0    지민  방탄소년단  빅히트  남자  1995-10-13  173.6   A  10523260\n",
              "1      1  지드래곤     빅뱅   YG  남자  1988-08-18  177.0   A   9916947"
            ],
            "text/html": [
              "\n",
              "  <div id=\"df-9b25b58c-1393-423d-8065-1867110460de\" class=\"colab-df-container\">\n",
              "    <div>\n",
              "<style scoped>\n",
              "    .dataframe tbody tr th:only-of-type {\n",
              "        vertical-align: middle;\n",
              "    }\n",
              "\n",
              "    .dataframe tbody tr th {\n",
              "        vertical-align: top;\n",
              "    }\n",
              "\n",
              "    .dataframe thead th {\n",
              "        text-align: right;\n",
              "    }\n",
              "</style>\n",
              "<table border=\"1\" class=\"dataframe\">\n",
              "  <thead>\n",
              "    <tr style=\"text-align: right;\">\n",
              "      <th></th>\n",
              "      <th>index</th>\n",
              "      <th>이름</th>\n",
              "      <th>그룹</th>\n",
              "      <th>소속사</th>\n",
              "      <th>성별</th>\n",
              "      <th>생년월일</th>\n",
              "      <th>키</th>\n",
              "      <th>혈액형</th>\n",
              "      <th>브랜드평판지수</th>\n",
              "    </tr>\n",
              "  </thead>\n",
              "  <tbody>\n",
              "    <tr>\n",
              "      <th>0</th>\n",
              "      <td>0</td>\n",
              "      <td>지민</td>\n",
              "      <td>방탄소년단</td>\n",
              "      <td>빅히트</td>\n",
              "      <td>남자</td>\n",
              "      <td>1995-10-13</td>\n",
              "      <td>173.6</td>\n",
              "      <td>A</td>\n",
              "      <td>10523260</td>\n",
              "    </tr>\n",
              "    <tr>\n",
              "      <th>1</th>\n",
              "      <td>1</td>\n",
              "      <td>지드래곤</td>\n",
              "      <td>빅뱅</td>\n",
              "      <td>YG</td>\n",
              "      <td>남자</td>\n",
              "      <td>1988-08-18</td>\n",
              "      <td>177.0</td>\n",
              "      <td>A</td>\n",
              "      <td>9916947</td>\n",
              "    </tr>\n",
              "  </tbody>\n",
              "</table>\n",
              "</div>\n",
              "    <div class=\"colab-df-buttons\">\n",
              "\n",
              "  <div class=\"colab-df-container\">\n",
              "    <button class=\"colab-df-convert\" onclick=\"convertToInteractive('df-9b25b58c-1393-423d-8065-1867110460de')\"\n",
              "            title=\"Convert this dataframe to an interactive table.\"\n",
              "            style=\"display:none;\">\n",
              "\n",
              "  <svg xmlns=\"http://www.w3.org/2000/svg\" height=\"24px\" viewBox=\"0 -960 960 960\">\n",
              "    <path d=\"M120-120v-720h720v720H120Zm60-500h600v-160H180v160Zm220 220h160v-160H400v160Zm0 220h160v-160H400v160ZM180-400h160v-160H180v160Zm440 0h160v-160H620v160ZM180-180h160v-160H180v160Zm440 0h160v-160H620v160Z\"/>\n",
              "  </svg>\n",
              "    </button>\n",
              "\n",
              "  <style>\n",
              "    .colab-df-container {\n",
              "      display:flex;\n",
              "      gap: 12px;\n",
              "    }\n",
              "\n",
              "    .colab-df-convert {\n",
              "      background-color: #E8F0FE;\n",
              "      border: none;\n",
              "      border-radius: 50%;\n",
              "      cursor: pointer;\n",
              "      display: none;\n",
              "      fill: #1967D2;\n",
              "      height: 32px;\n",
              "      padding: 0 0 0 0;\n",
              "      width: 32px;\n",
              "    }\n",
              "\n",
              "    .colab-df-convert:hover {\n",
              "      background-color: #E2EBFA;\n",
              "      box-shadow: 0px 1px 2px rgba(60, 64, 67, 0.3), 0px 1px 3px 1px rgba(60, 64, 67, 0.15);\n",
              "      fill: #174EA6;\n",
              "    }\n",
              "\n",
              "    .colab-df-buttons div {\n",
              "      margin-bottom: 4px;\n",
              "    }\n",
              "\n",
              "    [theme=dark] .colab-df-convert {\n",
              "      background-color: #3B4455;\n",
              "      fill: #D2E3FC;\n",
              "    }\n",
              "\n",
              "    [theme=dark] .colab-df-convert:hover {\n",
              "      background-color: #434B5C;\n",
              "      box-shadow: 0px 1px 3px 1px rgba(0, 0, 0, 0.15);\n",
              "      filter: drop-shadow(0px 1px 2px rgba(0, 0, 0, 0.3));\n",
              "      fill: #FFFFFF;\n",
              "    }\n",
              "  </style>\n",
              "\n",
              "    <script>\n",
              "      const buttonEl =\n",
              "        document.querySelector('#df-9b25b58c-1393-423d-8065-1867110460de button.colab-df-convert');\n",
              "      buttonEl.style.display =\n",
              "        google.colab.kernel.accessAllowed ? 'block' : 'none';\n",
              "\n",
              "      async function convertToInteractive(key) {\n",
              "        const element = document.querySelector('#df-9b25b58c-1393-423d-8065-1867110460de');\n",
              "        const dataTable =\n",
              "          await google.colab.kernel.invokeFunction('convertToInteractive',\n",
              "                                                    [key], {});\n",
              "        if (!dataTable) return;\n",
              "\n",
              "        const docLinkHtml = 'Like what you see? Visit the ' +\n",
              "          '<a target=\"_blank\" href=https://colab.research.google.com/notebooks/data_table.ipynb>data table notebook</a>'\n",
              "          + ' to learn more about interactive tables.';\n",
              "        element.innerHTML = '';\n",
              "        dataTable['output_type'] = 'display_data';\n",
              "        await google.colab.output.renderOutput(dataTable, element);\n",
              "        const docLink = document.createElement('div');\n",
              "        docLink.innerHTML = docLinkHtml;\n",
              "        element.appendChild(docLink);\n",
              "      }\n",
              "    </script>\n",
              "  </div>\n",
              "\n",
              "\n",
              "<div id=\"df-4c533a18-7f3a-4179-80b2-6f6ef7f78f8d\">\n",
              "  <button class=\"colab-df-quickchart\" onclick=\"quickchart('df-4c533a18-7f3a-4179-80b2-6f6ef7f78f8d')\"\n",
              "            title=\"Suggest charts\"\n",
              "            style=\"display:none;\">\n",
              "\n",
              "<svg xmlns=\"http://www.w3.org/2000/svg\" height=\"24px\"viewBox=\"0 0 24 24\"\n",
              "     width=\"24px\">\n",
              "    <g>\n",
              "        <path d=\"M19 3H5c-1.1 0-2 .9-2 2v14c0 1.1.9 2 2 2h14c1.1 0 2-.9 2-2V5c0-1.1-.9-2-2-2zM9 17H7v-7h2v7zm4 0h-2V7h2v10zm4 0h-2v-4h2v4z\"/>\n",
              "    </g>\n",
              "</svg>\n",
              "  </button>\n",
              "\n",
              "<style>\n",
              "  .colab-df-quickchart {\n",
              "      --bg-color: #E8F0FE;\n",
              "      --fill-color: #1967D2;\n",
              "      --hover-bg-color: #E2EBFA;\n",
              "      --hover-fill-color: #174EA6;\n",
              "      --disabled-fill-color: #AAA;\n",
              "      --disabled-bg-color: #DDD;\n",
              "  }\n",
              "\n",
              "  [theme=dark] .colab-df-quickchart {\n",
              "      --bg-color: #3B4455;\n",
              "      --fill-color: #D2E3FC;\n",
              "      --hover-bg-color: #434B5C;\n",
              "      --hover-fill-color: #FFFFFF;\n",
              "      --disabled-bg-color: #3B4455;\n",
              "      --disabled-fill-color: #666;\n",
              "  }\n",
              "\n",
              "  .colab-df-quickchart {\n",
              "    background-color: var(--bg-color);\n",
              "    border: none;\n",
              "    border-radius: 50%;\n",
              "    cursor: pointer;\n",
              "    display: none;\n",
              "    fill: var(--fill-color);\n",
              "    height: 32px;\n",
              "    padding: 0;\n",
              "    width: 32px;\n",
              "  }\n",
              "\n",
              "  .colab-df-quickchart:hover {\n",
              "    background-color: var(--hover-bg-color);\n",
              "    box-shadow: 0 1px 2px rgba(60, 64, 67, 0.3), 0 1px 3px 1px rgba(60, 64, 67, 0.15);\n",
              "    fill: var(--button-hover-fill-color);\n",
              "  }\n",
              "\n",
              "  .colab-df-quickchart-complete:disabled,\n",
              "  .colab-df-quickchart-complete:disabled:hover {\n",
              "    background-color: var(--disabled-bg-color);\n",
              "    fill: var(--disabled-fill-color);\n",
              "    box-shadow: none;\n",
              "  }\n",
              "\n",
              "  .colab-df-spinner {\n",
              "    border: 2px solid var(--fill-color);\n",
              "    border-color: transparent;\n",
              "    border-bottom-color: var(--fill-color);\n",
              "    animation:\n",
              "      spin 1s steps(1) infinite;\n",
              "  }\n",
              "\n",
              "  @keyframes spin {\n",
              "    0% {\n",
              "      border-color: transparent;\n",
              "      border-bottom-color: var(--fill-color);\n",
              "      border-left-color: var(--fill-color);\n",
              "    }\n",
              "    20% {\n",
              "      border-color: transparent;\n",
              "      border-left-color: var(--fill-color);\n",
              "      border-top-color: var(--fill-color);\n",
              "    }\n",
              "    30% {\n",
              "      border-color: transparent;\n",
              "      border-left-color: var(--fill-color);\n",
              "      border-top-color: var(--fill-color);\n",
              "      border-right-color: var(--fill-color);\n",
              "    }\n",
              "    40% {\n",
              "      border-color: transparent;\n",
              "      border-right-color: var(--fill-color);\n",
              "      border-top-color: var(--fill-color);\n",
              "    }\n",
              "    60% {\n",
              "      border-color: transparent;\n",
              "      border-right-color: var(--fill-color);\n",
              "    }\n",
              "    80% {\n",
              "      border-color: transparent;\n",
              "      border-right-color: var(--fill-color);\n",
              "      border-bottom-color: var(--fill-color);\n",
              "    }\n",
              "    90% {\n",
              "      border-color: transparent;\n",
              "      border-bottom-color: var(--fill-color);\n",
              "    }\n",
              "  }\n",
              "</style>\n",
              "\n",
              "  <script>\n",
              "    async function quickchart(key) {\n",
              "      const quickchartButtonEl =\n",
              "        document.querySelector('#' + key + ' button');\n",
              "      quickchartButtonEl.disabled = true;  // To prevent multiple clicks.\n",
              "      quickchartButtonEl.classList.add('colab-df-spinner');\n",
              "      try {\n",
              "        const charts = await google.colab.kernel.invokeFunction(\n",
              "            'suggestCharts', [key], {});\n",
              "      } catch (error) {\n",
              "        console.error('Error during call to suggestCharts:', error);\n",
              "      }\n",
              "      quickchartButtonEl.classList.remove('colab-df-spinner');\n",
              "      quickchartButtonEl.classList.add('colab-df-quickchart-complete');\n",
              "    }\n",
              "    (() => {\n",
              "      let quickchartButtonEl =\n",
              "        document.querySelector('#df-4c533a18-7f3a-4179-80b2-6f6ef7f78f8d button');\n",
              "      quickchartButtonEl.style.display =\n",
              "        google.colab.kernel.accessAllowed ? 'block' : 'none';\n",
              "    })();\n",
              "  </script>\n",
              "</div>\n",
              "\n",
              "    </div>\n",
              "  </div>\n"
            ],
            "application/vnd.google.colaboratory.intrinsic+json": {
              "type": "dataframe",
              "summary": "{\n  \"name\": \"df\",\n  \"rows\": 2,\n  \"fields\": [\n    {\n      \"column\": \"index\",\n      \"properties\": {\n        \"dtype\": \"number\",\n        \"std\": 0,\n        \"min\": 0,\n        \"max\": 1,\n        \"num_unique_values\": 2,\n        \"samples\": [\n          1,\n          0\n        ],\n        \"semantic_type\": \"\",\n        \"description\": \"\"\n      }\n    },\n    {\n      \"column\": \"\\uc774\\ub984\",\n      \"properties\": {\n        \"dtype\": \"string\",\n        \"num_unique_values\": 2,\n        \"samples\": [\n          \"\\uc9c0\\ub4dc\\ub798\\uace4\",\n          \"\\uc9c0\\ubbfc\"\n        ],\n        \"semantic_type\": \"\",\n        \"description\": \"\"\n      }\n    },\n    {\n      \"column\": \"\\uadf8\\ub8f9\",\n      \"properties\": {\n        \"dtype\": \"string\",\n        \"num_unique_values\": 2,\n        \"samples\": [\n          \"\\ube45\\ubc45\",\n          \"\\ubc29\\ud0c4\\uc18c\\ub144\\ub2e8\"\n        ],\n        \"semantic_type\": \"\",\n        \"description\": \"\"\n      }\n    },\n    {\n      \"column\": \"\\uc18c\\uc18d\\uc0ac\",\n      \"properties\": {\n        \"dtype\": \"string\",\n        \"num_unique_values\": 2,\n        \"samples\": [\n          \"YG\",\n          \"\\ube45\\ud788\\ud2b8\"\n        ],\n        \"semantic_type\": \"\",\n        \"description\": \"\"\n      }\n    },\n    {\n      \"column\": \"\\uc131\\ubcc4\",\n      \"properties\": {\n        \"dtype\": \"string\",\n        \"num_unique_values\": 1,\n        \"samples\": [\n          \"\\ub0a8\\uc790\"\n        ],\n        \"semantic_type\": \"\",\n        \"description\": \"\"\n      }\n    },\n    {\n      \"column\": \"\\uc0dd\\ub144\\uc6d4\\uc77c\",\n      \"properties\": {\n        \"dtype\": \"object\",\n        \"num_unique_values\": 2,\n        \"samples\": [\n          \"1988-08-18\"\n        ],\n        \"semantic_type\": \"\",\n        \"description\": \"\"\n      }\n    },\n    {\n      \"column\": \"\\ud0a4\",\n      \"properties\": {\n        \"dtype\": \"number\",\n        \"std\": 2.4041630560342657,\n        \"min\": 173.6,\n        \"max\": 177.0,\n        \"num_unique_values\": 2,\n        \"samples\": [\n          177.0\n        ],\n        \"semantic_type\": \"\",\n        \"description\": \"\"\n      }\n    },\n    {\n      \"column\": \"\\ud608\\uc561\\ud615\",\n      \"properties\": {\n        \"dtype\": \"string\",\n        \"num_unique_values\": 1,\n        \"samples\": [\n          \"A\"\n        ],\n        \"semantic_type\": \"\",\n        \"description\": \"\"\n      }\n    },\n    {\n      \"column\": \"\\ube0c\\ub79c\\ub4dc\\ud3c9\\ud310\\uc9c0\\uc218\",\n      \"properties\": {\n        \"dtype\": \"number\",\n        \"std\": 428728,\n        \"min\": 9916947,\n        \"max\": 10523260,\n        \"num_unique_values\": 2,\n        \"samples\": [\n          9916947\n        ],\n        \"semantic_type\": \"\",\n        \"description\": \"\"\n      }\n    }\n  ]\n}"
            }
          },
          "metadata": {},
          "execution_count": 36
        }
      ]
    },
    {
      "cell_type": "code",
      "source": [
        "pd.to_datetime(df['생년월일'],format='%Y-%m-%d')\n",
        "pd.to_list(df['생년월일'])"
      ],
      "metadata": {
        "id": "08TIxtvSmm_d"
      },
      "execution_count": null,
      "outputs": []
    },
    {
      "cell_type": "code",
      "source": [
        "pd.pivot_table(df, index='소속사', columns='혈액형', values='키',aggfunc=np.mean) #values는 조회하고 싶은 값 , 추가계산함수\n",
        "df.groupby('혈액형')['키'].mean()"
      ],
      "metadata": {
        "colab": {
          "base_uri": "https://localhost:8080/",
          "height": 296
        },
        "collapsed": true,
        "id": "pYNx7p1eIgfD",
        "outputId": "8d282a83-21fd-4d0d-d409-32262a3610b6"
      },
      "execution_count": null,
      "outputs": [
        {
          "output_type": "stream",
          "name": "stderr",
          "text": [
            "<ipython-input-26-bdcbd13088d8>:1: FutureWarning: The provided callable <function mean at 0x7a501ed87d90> is currently using DataFrameGroupBy.mean. In a future version of pandas, the provided callable will be used directly. To keep current behavior pass the string \"mean\" instead.\n",
            "  pd.pivot_table(df, index='소속사', columns='혈액형', values='키',aggfunc=np.mean) #values는 조회하고 싶은 값 , 추가계산함수\n"
          ]
        },
        {
          "output_type": "execute_result",
          "data": {
            "text/plain": [
              "혈액형\n",
              "A     172.966667\n",
              "AB    176.500000\n",
              "B     183.000000\n",
              "O     177.875000\n",
              "Name: 키, dtype: float64"
            ],
            "text/html": [
              "<div>\n",
              "<style scoped>\n",
              "    .dataframe tbody tr th:only-of-type {\n",
              "        vertical-align: middle;\n",
              "    }\n",
              "\n",
              "    .dataframe tbody tr th {\n",
              "        vertical-align: top;\n",
              "    }\n",
              "\n",
              "    .dataframe thead th {\n",
              "        text-align: right;\n",
              "    }\n",
              "</style>\n",
              "<table border=\"1\" class=\"dataframe\">\n",
              "  <thead>\n",
              "    <tr style=\"text-align: right;\">\n",
              "      <th></th>\n",
              "      <th>키</th>\n",
              "    </tr>\n",
              "    <tr>\n",
              "      <th>혈액형</th>\n",
              "      <th></th>\n",
              "    </tr>\n",
              "  </thead>\n",
              "  <tbody>\n",
              "    <tr>\n",
              "      <th>A</th>\n",
              "      <td>172.966667</td>\n",
              "    </tr>\n",
              "    <tr>\n",
              "      <th>AB</th>\n",
              "      <td>176.500000</td>\n",
              "    </tr>\n",
              "    <tr>\n",
              "      <th>B</th>\n",
              "      <td>183.000000</td>\n",
              "    </tr>\n",
              "    <tr>\n",
              "      <th>O</th>\n",
              "      <td>177.875000</td>\n",
              "    </tr>\n",
              "  </tbody>\n",
              "</table>\n",
              "</div><br><label><b>dtype:</b> float64</label>"
            ]
          },
          "metadata": {},
          "execution_count": 26
        }
      ]
    },
    {
      "cell_type": "code",
      "source": [
        "df.groupby(['혈액형', '성별'])['키'].value_counts() # 키 칼럼의 value마다 data의 갯수\n",
        "df.groupby(['혈액형', '성별'])['키'].count() # 키 칼럼에 있는 data의 갯수"
      ],
      "metadata": {
        "colab": {
          "base_uri": "https://localhost:8080/",
          "height": 304
        },
        "collapsed": true,
        "id": "VHDMh9diKzxs",
        "outputId": "cd38ad0f-e214-489e-8cf8-c5a0468be1d0"
      },
      "execution_count": null,
      "outputs": [
        {
          "output_type": "execute_result",
          "data": {
            "text/plain": [
              "혈액형  성별\n",
              "A    남자    5\n",
              "     여자    1\n",
              "AB   남자    2\n",
              "B    남자    1\n",
              "     여자    0\n",
              "O    남자    4\n",
              "Name: 키, dtype: int64"
            ],
            "text/html": [
              "<div>\n",
              "<style scoped>\n",
              "    .dataframe tbody tr th:only-of-type {\n",
              "        vertical-align: middle;\n",
              "    }\n",
              "\n",
              "    .dataframe tbody tr th {\n",
              "        vertical-align: top;\n",
              "    }\n",
              "\n",
              "    .dataframe thead th {\n",
              "        text-align: right;\n",
              "    }\n",
              "</style>\n",
              "<table border=\"1\" class=\"dataframe\">\n",
              "  <thead>\n",
              "    <tr style=\"text-align: right;\">\n",
              "      <th></th>\n",
              "      <th></th>\n",
              "      <th>키</th>\n",
              "    </tr>\n",
              "    <tr>\n",
              "      <th>혈액형</th>\n",
              "      <th>성별</th>\n",
              "      <th></th>\n",
              "    </tr>\n",
              "  </thead>\n",
              "  <tbody>\n",
              "    <tr>\n",
              "      <th rowspan=\"2\" valign=\"top\">A</th>\n",
              "      <th>남자</th>\n",
              "      <td>5</td>\n",
              "    </tr>\n",
              "    <tr>\n",
              "      <th>여자</th>\n",
              "      <td>1</td>\n",
              "    </tr>\n",
              "    <tr>\n",
              "      <th>AB</th>\n",
              "      <th>남자</th>\n",
              "      <td>2</td>\n",
              "    </tr>\n",
              "    <tr>\n",
              "      <th rowspan=\"2\" valign=\"top\">B</th>\n",
              "      <th>남자</th>\n",
              "      <td>1</td>\n",
              "    </tr>\n",
              "    <tr>\n",
              "      <th>여자</th>\n",
              "      <td>0</td>\n",
              "    </tr>\n",
              "    <tr>\n",
              "      <th>O</th>\n",
              "      <th>남자</th>\n",
              "      <td>4</td>\n",
              "    </tr>\n",
              "  </tbody>\n",
              "</table>\n",
              "</div><br><label><b>dtype:</b> int64</label>"
            ]
          },
          "metadata": {},
          "execution_count": 34
        }
      ]
    },
    {
      "cell_type": "code",
      "source": [
        "df.drop(['그룹', '소속사'], axis=1)"
      ],
      "metadata": {
        "id": "AALPIhPFORP4"
      },
      "execution_count": null,
      "outputs": []
    },
    {
      "cell_type": "code",
      "source": [
        "df.fillna() # method=\"ffill\" / \"bfill\" 가장 가까운 이전값 또는 이후값으로 결측값 채움\n",
        "df.dropna(axis=0, how='any') # axis=0 행 , axis=1 열 / 'any','all'"
      ],
      "metadata": {
        "id": "381LV-zDwT9-"
      },
      "execution_count": null,
      "outputs": []
    },
    {
      "cell_type": "code",
      "source": [
        "df.drop_duplicates(keep='first') #중복된 행 제거 , keep 중복된 것 중 어떤 데이터를 남기고 나머지를 삭제할건지 'last'\n",
        "# 중복된 값만 지우고 행을 지우지는 않음\n",
        "df.drop_duplicates('그룹') # 행 전체를 제거함"
      ],
      "metadata": {
        "id": "OC5l94GsNut0"
      },
      "execution_count": null,
      "outputs": []
    },
    {
      "cell_type": "code",
      "source": [
        "df['혈액형'].nunique() #NaN 값은 세지않음\n",
        "df['혈액형'].unique()"
      ],
      "metadata": {
        "id": "boL5H2viOvtd"
      },
      "execution_count": null,
      "outputs": []
    },
    {
      "cell_type": "code",
      "source": [
        "df.to_csv('name.csv',index=False) # 데이터 프레임의 인덱스를 csv에 포함해서 저장시킬것인지 여부"
      ],
      "metadata": {
        "id": "oqi9AAFj0hki"
      },
      "execution_count": null,
      "outputs": []
    },
    {
      "cell_type": "code",
      "source": [
        "#pandas one hot encoding boolean값으로 리턴함\n",
        "df_encoded = pd.get_dummies(df, columns=['학과'])"
      ],
      "metadata": {
        "id": "tYfwPFzF16EF"
      },
      "execution_count": null,
      "outputs": []
    },
    {
      "cell_type": "code",
      "source": [
        "df.idxmax(axis=0, skipna=True) # 축 설정에 따라 최대 최소값 찾기\n",
        "df.idxmin(axis=0, skipna=True)"
      ],
      "metadata": {
        "id": "icmEEchAYZeP"
      },
      "execution_count": null,
      "outputs": []
    },
    {
      "cell_type": "code",
      "source": [
        "#map mapping 기능\n",
        "df['season'] = df['season'].map({1: \"Spring\", 2: \"Summer\", 3: \"Fall\", 4: \"Winter\"})"
      ],
      "metadata": {
        "id": "XVI1sIoxlQ3J"
      },
      "execution_count": null,
      "outputs": []
    },
    {
      "cell_type": "code",
      "source": [
        "df.flatten # 다차원 배열을 1차원 배열로 바꿈 (25,)"
      ],
      "metadata": {
        "id": "gJBfvkZN47hU"
      },
      "execution_count": null,
      "outputs": []
    },
    {
      "cell_type": "code",
      "source": [
        "df.apply(np.cumsum) # apply 함수적용 / np.cumsum cumulative sum"
      ],
      "metadata": {
        "id": "A5cuS9nwYCRj"
      },
      "execution_count": null,
      "outputs": []
    },
    {
      "cell_type": "code",
      "source": [
        "df2= df.copy()\n",
        "pd.concat([df,df2],keys=['x','y'],axis=0,join='inner', ignore_index=True, sort=False)\n",
        "# 기계적으로 붙여주는 역할, 행을 추가할 때 용이\n",
        "# keys multi-index / join inner NaN값이 없는 행만 출력으로 남겨둠 default는 outer\n",
        "# ignore_index 기존 인덱스 신경 안쓰고 붙인 다음 인덱스 리셋\n",
        "# sort 결합하고 붙인 축을 기준으로 정렬할지 여부"
      ],
      "metadata": {
        "id": "am7FwdcoYhMN"
      },
      "execution_count": null,
      "outputs": []
    },
    {
      "cell_type": "code",
      "source": [
        "left = pd.DataFrame({'key': ['K0', 'K4', 'K2', 'K3'],\n",
        "                     'A': ['A0', 'A1', 'A2', 'A3'],\n",
        "                     'B': ['B0', 'B1', 'B2', 'B3']})\n",
        "\n",
        "right = pd.DataFrame({'key': ['K0', 'K1', 'K2', 'K3'],\n",
        "                      'C': ['C0', 'C1', 'C2', 'C3'],\n",
        "                      'D': ['D0', 'D1', 'D2', 'D3']})\n",
        "\n",
        "pd.merge(left,right,on='key',how='left') # key를 기준으로 merge\n",
        "# how on에서 참조하는 데이터프레임 기준선택 default는 inner , outer는 누락없이 붙임"
      ],
      "metadata": {
        "id": "ACQ93zbCZo8N"
      },
      "execution_count": null,
      "outputs": []
    },
    {
      "cell_type": "code",
      "source": [
        "df.replace(',', '',regex=True) # replace 이용 ,제거 / regex 정규식 사용여부"
      ],
      "metadata": {
        "id": "uwNjoZnoe_vY"
      },
      "execution_count": null,
      "outputs": []
    },
    {
      "cell_type": "code",
      "source": [
        "# 결측치 있는 인덱스 파악\n",
        "df[df.isnull().any(axis=1)].index.to_list()"
      ],
      "metadata": {
        "id": "AKJWch-2mfy3"
      },
      "execution_count": null,
      "outputs": []
    },
    {
      "cell_type": "code",
      "source": [
        "# 이동평균\n",
        "dates = pd.date_range(start='2024-01-01', periods=20, freq='D') # day 단위로 날짜 생성 freq='H', 'W', 'M' 시간 주 월 단위로 생성\n",
        "data = np.random.randint(50, 100, size=(20))\n",
        "dff = pd.DataFrame({'날짜': dates, '값': data})\n",
        "dff['5일 평균값'] = dff['값'].rolling(5).mean()"
      ],
      "metadata": {
        "id": "RuDNjkiCqlZv"
      },
      "execution_count": null,
      "outputs": []
    },
    {
      "cell_type": "code",
      "source": [
        "df[:, np.newaxis, 2] # df에서 인덱스2, 3번째 열 데이터를 가져오면 1차원 배열이므로 새로운 축을 추가하여 2차원 배열로 만들어줌"
      ],
      "metadata": {
        "id": "2T0TmOk6qj7e"
      },
      "execution_count": null,
      "outputs": []
    },
    {
      "cell_type": "code",
      "source": [
        "# bin 만들기\n",
        "df['나이대'] = pd.cut(df['나이'], bins=[10,20,30,40], labels=['10대','20대','30대'])\n",
        "df['나이대'] = pd.cut(df['나이'],3) # 3개의 구간\n",
        "# 고정된 구간의 크기로 나눔, 데이터의 min,max를 기반으로 구간 생성, bins를 안넣어주고 구간 개수 넣으면 균등한 길이로 나눔\n",
        "df['나이대'] = pd.qcut(df['나이'],4,labels=['Q1','Q2','Q3','Q4'])\n",
        "# 동일한 빈도를 가지도록 구간을 나눔 -> 데이터가 몰려있는 구간은 좁게 나눔 -> 모델이 비교적 모든연령대를 공평하게 학습"
      ],
      "metadata": {
        "id": "3w5TCLj2QweG"
      },
      "execution_count": null,
      "outputs": []
    },
    {
      "cell_type": "code",
      "source": [],
      "metadata": {
        "id": "PMM8qO5DG4N9"
      },
      "execution_count": null,
      "outputs": []
    },
    {
      "cell_type": "markdown",
      "source": [
        "## 9.4 scikit learn"
      ],
      "metadata": {
        "id": "d5mRD6APredY"
      }
    },
    {
      "cell_type": "code",
      "source": [
        "x-np.arrange(100).reshape(-1,1) # -1은 배열의 길이와 남은 차원으로 부터 추정해서 뒤에 입력된 '1' 열 개수에 맞추어 행 개수"
      ],
      "metadata": {
        "id": "MKEindHS_Vqc"
      },
      "execution_count": null,
      "outputs": []
    },
    {
      "cell_type": "code",
      "source": [
        "from sklearn.model_selection import train_test_split\n",
        "x_train, x_test, y_train, y_test=train_test_split(x,y, test_size=0.2, shuffle=True, random_state=42, stratify=labeldata) # randomstate 모델평가 할 때 재현성을 위해서 randomseed와 유사\n",
        "# stratify에 지정된 data의 비율을 최대한 균등하게 유지하여 나누어줌 # 분류문제에서 모델학습 시 class간 균등한 비율인 점은 중요함 데이터의 편향 지"
      ],
      "metadata": {
        "id": "LlxZ2TZQbzTj"
      },
      "execution_count": null,
      "outputs": []
    },
    {
      "cell_type": "code",
      "source": [
        "from sklearn.model_selection import KFold\n",
        "kf=KFold(n_splits=5, shuffle=True, random_state=42)\n",
        "\n",
        "for train_idx, test_idx in kf.split(X):\n",
        "  X_train, X_test=X[train_idx], X[test_idx]\n",
        "  y_train, y_test=y[train_idx], y[test_idx]"
      ],
      "metadata": {
        "id": "nuIhX8pfuRu1"
      },
      "execution_count": null,
      "outputs": []
    },
    {
      "cell_type": "code",
      "source": [
        "from sklearn.metrics import mean_absolute_error, mean_squared_error"
      ],
      "metadata": {
        "id": "upgefzOAbyEy"
      },
      "execution_count": null,
      "outputs": []
    },
    {
      "cell_type": "code",
      "source": [
        "from sklearn.impute import SimpleImputer\n",
        "imputer=SimpleImputer(strategy=\"mean\") #mean , median , most_frequent\n",
        "imputer.fit(train[['Age']])\n",
        "train['Age']=imputer.transform(train[['Age']])"
      ],
      "metadata": {
        "id": "lyH0HaNdvRPC"
      },
      "execution_count": null,
      "outputs": []
    },
    {
      "cell_type": "code",
      "source": [
        "from sklearn.impute import KNNImputer\n",
        "imputer=KNNImputer(n_neighbors=5)\n",
        "imputer.fit_transform(X) # n_neighbors=5 인접한 모델을 몇개 참조할 것인, 이웃수 metric='nan_eucllidean' 거리측정방"
      ],
      "metadata": {
        "id": "6nGvMk8avq3u"
      },
      "execution_count": null,
      "outputs": []
    },
    {
      "cell_type": "code",
      "source": [
        "from sklearn.preprocessing import StandardScaler\n",
        "scaler=StandardScaler()\n",
        "sclaer.fit(X_train)\n",
        "x_train_scaled=scaler.transform(X_train)\n",
        "x_train_scaled=scaler.fit_transform(X_train)\n",
        "\n",
        "from sklearn.preprocessing import MinMaxScaler\n",
        "scaler=MinMaxScaler().fit(X_train) #fit, transform 따로 아님 같이 / feature_range=(0,1) 인수지정가능\n",
        "x_train_scaled=scaler.transform(X_train)\n",
        "\n",
        "from sklearn.preprocessing import RobustScaler # 중앙값이 0 , IQR이 1이 되도록 변환 -> outlier 처리에 유용\n",
        "scaler=RobustScaler().fit(X_train)\n",
        "x_train_scaled=scaler.transform(X_train)"
      ],
      "metadata": {
        "id": "10z7iGxkwu1d"
      },
      "execution_count": null,
      "outputs": []
    },
    {
      "cell_type": "code",
      "source": [
        "from sklearn.preprocessing import OneHotEncoder\n",
        "encoder=OneHotEncoder(drop='first',sparse_output=False) #drop을 통해 세개중 2개가 아닌걸 알면 알수있는 정보기 때문에 제거\n",
        "#drop 할때 어떤 걸 drop하는게 좋으려나?\n",
        "#spars_output True이면 sparse matrix / False이면 dense matrix 머신러닝에서는 주로 dense matrix 사용\n",
        "#Dense Matrix: 대부분의 값이 0 아님 / 모든 요소를 저장 Sparse Matrix: 대부분이 0. 값과 행,열 위치정보만 저장"
      ],
      "metadata": {
        "id": "WRZGca95qZua"
      },
      "execution_count": null,
      "outputs": []
    },
    {
      "cell_type": "code",
      "source": [
        "from sklearn.pipeline import make_pipeline\n",
        "\n",
        "elasticnet_pipeline=make_pipeline(StandardScaler(),ElasticNet(alpha=0.1, l1_ratio=0.2))\n",
        "elasticnet_pred=elasticnet_pipeline.fit(x_train, y_train).predict(x_test) #transform이없는이유?"
      ],
      "metadata": {
        "id": "yaociN3Tqde9"
      },
      "execution_count": null,
      "outputs": []
    },
    {
      "cell_type": "code",
      "source": [
        "from imblearn.over_sampling import SMOTE\n",
        "smote=SMOTE(random_state=42)"
      ],
      "metadata": {
        "id": "gK9ZwsUwx4Q-"
      },
      "execution_count": null,
      "outputs": []
    },
    {
      "cell_type": "code",
      "source": [
        "# model\n",
        "from sklearn.linear_model import LinearRegression\n",
        "model=LinearRegression(n_jobs=-1)# 사용할 cpu 개수 지정, -1이면 전부\n",
        "pred=model.fit(x_train, y_train).predict(x_test)\n",
        "model.coef_ , model.intercept_\n",
        "\n",
        "from sklearn.preprocessing import PolynomialFeatures\n",
        "poly_features=PolynomialFeatures(degree=2, include_bias=False)\n",
        "poly_x=poly_features.fit_transform(x) # x x**2 x**3.. polynoimial항들을 추가 feature로 갖게됨\n",
        "#polynomialfeatures는 거듭제곱항 뿐만아니라 a,b 칼럼이 있었다면 a^2b, ab^2 같은 교차항도 feature로 가짐\n",
        "model=LinearRegression()\n",
        "pred=model.fit(train_poly_x, y).predict(test_poly_x)"
      ],
      "metadata": {
        "id": "o9yHh-rXknur"
      },
      "execution_count": null,
      "outputs": []
    },
    {
      "cell_type": "code",
      "source": [
        "# regulation\n",
        "from sklearn.linear_model import Ridge, Lasso, ElasticNet\n",
        "ridge=Ridge(alpha=0.1)\n",
        "pred_ridge=ridge.fit(x_train, y_train).predict(x_test)\n",
        "lasso=Lasso(alpha=0.1)\n",
        "pred_lasso=lasso.fit(x_train, y_train).predict(x_test)\n",
        "elastic=ElasticNet(alpha=0.1, l1_ratio=0.2)\n",
        "pred_elastic=elastic.fit(x_train, y_train).predict(x_test)"
      ],
      "metadata": {
        "id": "S-ZBl691lhNp"
      },
      "execution_count": null,
      "outputs": []
    },
    {
      "cell_type": "code",
      "source": [
        "from sklearn.prerpocessing import LabelEncoder\n",
        "le=LabelEncoder() #NaN값이 있으면 정상 동작하지 않음\n",
        "le.fit(df['혈액형'])\n",
        "df['혈액형']=le.transform(df['혈액형']) # unique한 value를 확인한 후 나름대로 숫자를 넣어줌\n",
        "le.classes_ # unique한 value 확인\n",
        "le.inverse_transform(df['혈액형']) # 숫자를 다시 문자로 변환"
      ],
      "metadata": {
        "id": "SMIIz3gxnTBg"
      },
      "execution_count": null,
      "outputs": []
    },
    {
      "cell_type": "code",
      "source": [
        "from mpl_toolkits.mplot3d import Axes3D\n",
        "from sklearn.decomposition import PCA\n",
        "\n",
        "fig = plt.figure(figsize=(8, 6))\n",
        "ax = Axes3D(fig, elev=-150, azim=110) #elev 고도 , azim z축을 중심으로 회전하는 정도\n",
        "X_reduced = PCA(n_components=3).fit_transform(df_iris.drop('target', 1))\n",
        "ax.scatter(X_reduced[:, 0], X_reduced[:, 1], X_reduced[:, 2], c=df_iris['target'],\n",
        "           cmap=plt.cm.Set1, edgecolor='k', s=40) # 각 점의 색상을 인덱스를 통해 매치된 해당 클래스의 색상으로 표현\n",
        "ax.set_title(\"Iris 3D\")\n",
        "ax.set_xlabel(\"x\")\n",
        "ax.w_xaxis.set_ticklabels([]) # 눈금 label 제거하여 더 깔끔하게 표현\n",
        "ax.set_ylabel(\"y\")\n",
        "ax.w_yaxis.set_ticklabels([])\n",
        "ax.set_zlabel(\"z\")\n",
        "ax.w_zaxis.set_ticklabels([])\n",
        "\n",
        "plt.show()"
      ],
      "metadata": {
        "id": "uojXJa6LqIGC"
      },
      "execution_count": null,
      "outputs": []
    },
    {
      "cell_type": "code",
      "source": [
        "from sklearn.linear_model import LogisticRegression #독립변수의 선형 결합을 이용하여 사건의 발생확률 예측 # 이진분류지만 분류를 여러번 수행하는 접근법 OvsR\n",
        "model=LogisticRegression(solver='liblinear', C=10.0, random_state=42)\n",
        "\n",
        "from sklearn.linear_model import SGDClassifier\n",
        "sgd = SGDClassifier(penalty='l1', random_state=0, n_jobs=-1) # L1 규제\n",
        "\n",
        "from sklearn.neighbors import KNeighborsClassifier\n",
        "knc = KNeighborsClassifier(n_neighbors=7)\n",
        "\n",
        "from sklearn.svm import SVC # SVM 기본적으로는 이진분류, 비확률적, 경계로 표현되는 데이터들 중 가장 큰 폭을 가진 경계를 찾는 알고리즘\n",
        "svc = SVC(random_state=0)\n",
        "svc.decision_function(x_test)[:5] # 각 클래스 별 확률값을 return해줌\n",
        "\n",
        "from sklearn.tree import DecisionTreeClassifier\n",
        "dtc = DecisionTreeClassifier(random_state=0)\n",
        "graph_tree(dtc)\n",
        "\n",
        "from sklearn.ensemble import RandomForestClassifier\n",
        "rfc = RandomForestClassifier(random_state=0)\n",
        "(rfc_pred == y_test).mean() # 적중 확률"
      ],
      "metadata": {
        "id": "ZavKKNnUsv3W"
      },
      "execution_count": null,
      "outputs": []
    },
    {
      "cell_type": "code",
      "source": [
        "from sklearn.metrics import confusion_matrix\n",
        "confusion_matrix(y_test, pred)\n",
        "\n",
        "from sklearn.metrics import accuracy_score, precision_score, recall_score, f1_score, roc_auc_score\n",
        "\n",
        "print(accuracy_score(y_test, pred))\n",
        "print(precision_score(y_test, pred))\n",
        "print(recall_score(y_test, pred))\n",
        "print(f1_score(y_test, pred))\n",
        "\n",
        "#receiver operating characteristic 곡선의 area under the curve x:false positive rate y:true positve rate"
      ],
      "metadata": {
        "id": "KsPeN-h00caP"
      },
      "execution_count": null,
      "outputs": []
    },
    {
      "cell_type": "code",
      "source": [
        "from sklearn.preprocessing import LabelEncoder # NaN값이 있으면 작동하지 않음\n",
        "\n",
        "label=LabelEncoder()\n",
        "df['혈액형']=label.fit_transform(df['혈액형'])\n",
        "label.classes_ # 뭐가 0인지 확인과정\n",
        "label.inverse_transform(df['혈액형']) # 숫자를 다시 문자로 변환"
      ],
      "metadata": {
        "id": "TuZBDrhPKFWK"
      },
      "execution_count": null,
      "outputs": []
    },
    {
      "cell_type": "code",
      "source": [
        "from sklearn.mdel_selction import cross_val_score, cross_val_predict\n",
        "\n",
        "scores= cross_val_score(model,x,y,cv=5)# cv는 폴드 수 . 각 폴드에서의 정확도가 저장됨\n",
        "predictions = cross_val_predict(model, x, y, cv=5) # 혼동행렬 계산이나 앙상블 모델 구축 시 활용가능"
      ],
      "metadata": {
        "id": "yRp-Xg5DhIoR"
      },
      "execution_count": null,
      "outputs": []
    },
    {
      "cell_type": "code",
      "source": [
        "from sklearn.linear_model import LogisticRegression, SGDClassfier\n",
        "model=LogisticRegression(solver='liblinear', C=10.0, random_state=42)\n",
        "# solver 최적화 알고리즘, c 정규화 강도 작을수록 강함 default=1.0\n",
        "\n",
        "sgd = SGDClassifier(penalty='l1', random_state=0, n_jobs=-1) # L1 규제\n",
        "\n",
        "from sklearn.neighbors import KNeighborsClassifier\n",
        "knc = KNeighborsClassifier(n_neighbors=7)\n",
        "\n",
        "from sklearn.svm import SVC # SVM 기본적으로는 이진분류, 비확률적, 경계로 표현되는 데이터들 중 가장 큰 폭을 가진 경계를 찾는 알고리즘\n",
        "svc = SVC(random_state=0)"
      ],
      "metadata": {
        "id": "nQKxCjdDpGUt"
      },
      "execution_count": null,
      "outputs": []
    },
    {
      "cell_type": "code",
      "source": [
        "from sklearn.tree import export_graphviz\n",
        "from subprocess import call\n",
        "from IPython.display import Image\n",
        "\n",
        "def graph_tree(model):\n",
        "    # .dot 파일로 export 해줍니다 환경변수 설정 해주어야함\n",
        "    export_graphviz(model, out_file='tree.dot')\n",
        "\n",
        "    # 생성된 .dot 파일을 .png로 변환\n",
        "\n",
        "    call(['dot', '-Tpng', 'tree.dot', '-o', 'decistion-tree.png', '-Gdpi=600'])\n",
        "\n",
        "    # .png 출력\n",
        "    return Image(filename = 'decistion-tree.png', width=500)"
      ],
      "metadata": {
        "id": "IEEn162vqHFX"
      },
      "execution_count": null,
      "outputs": []
    },
    {
      "cell_type": "markdown",
      "source": [
        "##9.4.1 성능측정 함수"
      ],
      "metadata": {
        "id": "kipMDhdOsL5a"
      }
    },
    {
      "cell_type": "code",
      "source": [
        "from sklearn.metrics import mean_squared_error\n",
        "import numpy as np\n",
        "import pandas as pd\n",
        "import matplotlib.pyplot as plt\n",
        "\n",
        "colors = ['r', 'c', 'm', 'y', 'k', 'khaki', 'teal', 'orchid', 'sandybrown',\n",
        "          'greenyellow', 'dodgerblue', 'deepskyblue', 'rosybrown', 'firebrick',\n",
        "          'deeppink', 'crimson', 'salmon', 'darkred', 'olivedrab', 'olive',\n",
        "          'forestgreen', 'royalblue', 'indigo', 'navy', 'mediumpurple', 'chocolate',\n",
        "          'gold', 'darkorange', 'seagreen', 'turquoise', 'steelblue', 'slategray',\n",
        "          'peru', 'midnightblue', 'slateblue', 'dimgray', 'cadetblue', 'tomato'\n",
        "         ]\n",
        "\n",
        "def plot_predictions(name_, pred, actual):\n",
        "    df = pd.DataFrame({'prediction': pred, 'actual': actual})\n",
        "    df = df.sort_values(by='actual').reset_index(drop=True)\n",
        "\n",
        "    plt.figure(figsize=(12, 9))\n",
        "    plt.scatter(df.index, df['prediction'], marker='x', color='r')\n",
        "    plt.scatter(df.index, df['actual'], alpha=0.7, marker='o', color='black') #alpha 투명도\n",
        "    plt.title(name_, fontsize=15)\n",
        "    plt.legend(['prediction', 'actual'], fontsize=12)\n",
        "    plt.show()\n",
        "my_predictions={}\n",
        "\n",
        "def mse_eval(name_, pred, actual):\n",
        "    global colors\n",
        "\n",
        "    plot_predictions(name_, pred, actual)\n",
        "\n",
        "    mse = mean_squared_error(pred, actual)\n",
        "    my_predictions[name_] = mse\n",
        "\n",
        "    y_value = sorted(my_predictions.items(), key=lambda x: x[1], reverse=True) #mse 큰 순서대로 sort\n",
        "\n",
        "    df = pd.DataFrame(y_value, columns=['model', 'mse'])\n",
        "    print(df)\n",
        "    min_ = df['mse'].min() - 10\n",
        "    max_ = df['mse'].max() + 10\n",
        "\n",
        "    length = len(df)\n",
        "\n",
        "    plt.figure(figsize=(10, length))\n",
        "    ax = plt.subplot()\n",
        "    ax.set_yticks(np.arange(len(df)))\n",
        "    ax.set_yticklabels(df['model'], fontsize=15)\n",
        "    bars = ax.barh(np.arange(len(df)), df['mse'])\n",
        "\n",
        "    for i, v in enumerate(df['mse']):\n",
        "        idx = np.random.choice(len(colors))\n",
        "        bars[i].set_color(colors[idx])\n",
        "        ax.text(v + 2, i, str(round(v, 3)), color='k', fontsize=15, fontweight='bold')\n",
        "\n",
        "    plt.title('MSE Error', fontsize=18)\n",
        "    plt.xlim(min_, max_)\n",
        "\n",
        "    plt.show()\n",
        "\n",
        "def plot_coef(columns, coef):\n",
        "    coef_df = pd.DataFrame(list(zip(columns, coef)))\n",
        "    coef_df.columns=['feature', 'coef']\n",
        "    coef_df = coef_df.sort_values('coef', ascending=False).reset_index(drop=True)\n",
        "\n",
        "    fig, ax = plt.subplots(figsize=(9, 7))\n",
        "    ax.barh(np.arange(len(coef_df)), coef_df['coef'])\n",
        "    idx = np.arange(len(coef_df))\n",
        "    ax.set_yticks(idx)\n",
        "    ax.set_yticklabels(coef_df['feature'])\n",
        "    fig.tight_layout()\n",
        "    plt.show()\n",
        "\n",
        "def remove_model(name_):\n",
        "    global my_predictions\n",
        "    try:\n",
        "        del my_predictions[name_]\n",
        "    except KeyError:\n",
        "        return False\n",
        "    return True"
      ],
      "metadata": {
        "id": "nTb_G0hwsKsS"
      },
      "execution_count": null,
      "outputs": []
    },
    {
      "cell_type": "markdown",
      "source": [
        "## 9.5 mathplotlib"
      ],
      "metadata": {
        "id": "dLayIOcongic"
      }
    },
    {
      "cell_type": "code",
      "source": [
        "import matplotlib.pyplot as plt\n",
        "%matplotlib inline #새로운 창이 아니라 셀 아래 표현\n",
        "fig.tight_layout() #그래프의 요소들 간의 레이아웃 자동조정 하여 서로 겹치지 않게"
      ],
      "metadata": {
        "id": "UTpRjdEZncmw"
      },
      "execution_count": null,
      "outputs": []
    },
    {
      "cell_type": "code",
      "source": [
        "fig, ax=plt.subplots(2,5,figsize=(6,6)) # 위치 지정 방법, 2행 5열\n",
        "plt.subplots_adjust(left=0.1, bottom=0.1, right=0.5, top=0.8, wspace=0.8, hspace=0.8) #subplots 들의 여백 및 위치 설정\n",
        "ax[0,0].scatter(data_result['인구'], data_result['총 계'])\n",
        "ax[0,1].plot(model_df['인구수'],model_df['예측 CCTV 수'],color='red')"
      ],
      "metadata": {
        "id": "fufu2JYf6Fcp"
      },
      "execution_count": null,
      "outputs": []
    },
    {
      "cell_type": "code",
      "source": [
        "plt.figure(figsize=(6,6))\n",
        "plt.plot(df.index, df.values, label='1') # 꺾은선\n",
        "plt.bar(df.index, df.values, label='2') # 막대\n",
        "plt.scatter(df.index, df.values, c=df2['키'] label='3') # 산점도 # c colormap 키의 값에 따라 색상 바뀌어서 점 찍힘\n",
        "plt.boxplot((df,df2)) # 정규분포를 벗어난 게 몇개인지 확인\n",
        "plt.grid()\n",
        "plt.legend() # 범례, label 명시해야함\n",
        "plt.xlabel('x')\n",
        "plt.ylabel('y')\n",
        "plt.title('title')\n",
        "plt.colorbar()\n",
        "plt.xticks(rotation=45)\n",
        "plt.xlim(0,10)\n",
        "plt.ylim(0,10)\n",
        "plt.text(x위치, y위치, text, fontsize=15)\n",
        "plt.show()\n",
        "\n",
        "#linewidth lw= # 'r' color #linestyle= #markersize= #marker='o'#markerfacecolr="
      ],
      "metadata": {
        "id": "wOX3pBBG6H8f"
      },
      "execution_count": null,
      "outputs": []
    },
    {
      "cell_type": "code",
      "source": [
        "t = np.arange(0,5,0.01)\n",
        "\n",
        "plt.figure(figsize=(10,12))\n",
        "\n",
        "plt.subplot(411)\n",
        "plt.plot(t,np.sqrt(t))\n",
        "plt.grid()\n",
        "\n",
        "plt.subplot(423)\n",
        "plt.plot(t,t**2)\n",
        "plt.grid()\n",
        "\n",
        "plt.subplot(424)\n",
        "plt.plot(t,t**3)\n",
        "plt.grid()\n",
        "\n",
        "plt.subplot(413)\n",
        "plt.plot(t,np.sin(t))\n",
        "plt.grid()\n",
        "\n",
        "plt.subplot(414)\n",
        "plt.plot(t,np.cos(t))\n",
        "plt.grid()\n",
        "\n",
        "plt.show()"
      ],
      "metadata": {
        "id": "kDTw81R5dFb3"
      },
      "execution_count": null,
      "outputs": []
    },
    {
      "cell_type": "code",
      "source": [
        "plt.figure()\n",
        "df['소계'].plot(kind='barh', grid=True, figsize=(6,6)) #인덱스 기반으로 그려줌\n",
        "plt.show()"
      ],
      "metadata": {
        "id": "yHVu9wx_Swtp"
      },
      "execution_count": null,
      "outputs": []
    },
    {
      "cell_type": "code",
      "source": [
        "!sudo apt-get install -y fonts-nanum\n",
        "!sudo fc-cache -fv\n",
        "!rm ~/.cache/matplotlib -rf"
      ],
      "metadata": {
        "id": "HUiRaCgsVZy6"
      },
      "execution_count": null,
      "outputs": []
    },
    {
      "cell_type": "code",
      "source": [
        "import matplotlib.pyplot as plt\n",
        "\n",
        "plt.rc('font', family='NanumBarunGothic')"
      ],
      "metadata": {
        "id": "sdTl0jwvVaSb"
      },
      "execution_count": null,
      "outputs": []
    },
    {
      "cell_type": "code",
      "source": [
        "import warnings\n",
        "\n",
        "warnings.filterwarnings(action='ignore')"
      ],
      "metadata": {
        "id": "VG4G8BB4eg-9"
      },
      "execution_count": null,
      "outputs": []
    },
    {
      "cell_type": "markdown",
      "source": [
        "## 9.6 seaborn"
      ],
      "metadata": {
        "id": "j0h2Zkgxzds6"
      }
    },
    {
      "cell_type": "code",
      "source": [
        "import seaborn as sns\n",
        "\n",
        "# 데이터 분포 시각화\n",
        "sns.displot(col='',row='') # col,row 이용하여 특정 행열 기준으로 나누어서 따로 그리기\n",
        "sns.histplot(data= df x='',y='', hue='', kde=True, multiple=stack,,stat='probability')\n",
        "# hue사용하여 추가적인 그룹화 가능 # stat default count:빈의 데이터개수 density,frequency\n",
        "# multiple: stack 작은 바 뒤에 큰 바 / dodge 카테고리 변수인 경우 겹치지 않게 생성\n",
        "sns.kdeplot() #hue사용하여 여러그룹 비교가능\n",
        "sns.countplot() # class의 분배 확인 막대그래프\n",
        "sns.boxplot() # 중앙값, 사분위수, 이상치 파악에 용이 orient=\"h\"\n",
        "sns.violinplot()\n",
        "\n",
        "# 변수간 관계 시각화\n",
        "sns.heatmap(df, annot=True, fmt=\".2f\", cmap=\"coolwarm\") # annot 각 셀에 숫자 값 표시 , \".2f\" 소수점 이하 자릿수 결정\n",
        "sns.scatterplot(s=x*10, alpha=0.5) # s 점의 크기 x값에 따라 가변적설정 가능 ,alpha 점의 투명도\n",
        "sns.lineplot() # 변수 간의 관계를 선으로 표현 시계열 데이터에 적합 . 신뢰구간 표현\n",
        "sns.jointplot(kind='scatter') # 두 변수 간의 관계와 분포를 함께 보여줌 kind를 통해 다양한 시각화 가능 'kde','hist','hex'\n",
        "#중앙의 contour plot은 동일한 밀도를 가진 데이터 포인터들을 연결 밀집되어있을수록 해당 영역에 데이터많이 분\n",
        "sns.pairplot(kind='reg') # df내 모든 변수 쌍의 관계를 산점도 행렬로 표현, 'reg' 회귀선 추가하\n",
        "sns.pointplot() # 카테고리 변수와 수치형 변수의 관계 파악\n",
        "\n",
        "g=sns.FacetGrid(df, col='age',row='sex') #age와 sex에 따라 나누어진 서브플롯에서 total_bill의 hist그래프를 다 그려줌\n",
        "g.map(sns.histplot, \"total_bill\")\n",
        "\n",
        "sns.replot(x='',y='',data=,hue='',col='',row='') #col,row 이용하여 특정 행열 기준으로 나누어서 따로 그리기"
      ],
      "metadata": {
        "id": "fg4dhfA_zhHg"
      },
      "execution_count": null,
      "outputs": []
    },
    {
      "cell_type": "markdown",
      "source": [
        "#10.iter and generator"
      ],
      "metadata": {
        "id": "gRkMW7gJpGj9"
      }
    },
    {
      "cell_type": "code",
      "source": [
        "#iter __iter__()와 __next__를 가진 객체 , 상태 유지함(반환 순)\n",
        "my_list = [1, 2, 3]\n",
        "my_iter = iter(my_list)  # 리스트로부터 이터레이터 생성\n",
        "# 이미 정의된 데이터 구조에서 순차적으로 값을 반환하는 객체\n",
        "print(next(my_iter))  # 1\n",
        "print(next(my_iter))  # 2\n",
        "print(next(my_iter))  # 3 # 더 이상 값이 없으면 StopIteration 예외 발생"
      ],
      "metadata": {
        "id": "hSe5e088fxo_"
      },
      "execution_count": null,
      "outputs": []
    },
    {
      "cell_type": "code",
      "source": [
        "#generator #함수나 표현식으로 만들어진 이터레이터의 한 종류 ,동적 이터레이터\n",
        "def my_generator():\n",
        "    yield 1\n",
        "    yield 2\n",
        "    yield 3\n",
        "#다음 값을 요청할 때 까지 실행을 멈춘 상태로 유지\n",
        "gen = my_generator()\n",
        "print(next(gen))  # 1\n",
        "print(next(gen))  # 2\n",
        "print(next(gen))  # 3\n",
        "# 더 이상 값이 없으면 StopIteration 예외 발생"
      ],
      "metadata": {
        "id": "H7GnaaDDibta"
      },
      "execution_count": null,
      "outputs": []
    },
    {
      "cell_type": "code",
      "source": [
        "#generator expression\n",
        "squares_gen = (x * x for x in range(5))# ()감싸주기\n",
        "print(list(squares_gen))\n",
        "for i in squares_gen:\n",
        "  print(i)\n",
        "#list comprehension은 모든 결과를 한 번에 메모리에 저장하지만 generator는 값을 하나씩 필요할 때마다 생성 메모리효율 좋음"
      ],
      "metadata": {
        "id": "IPkzRt6qiv31"
      },
      "execution_count": null,
      "outputs": []
    },
    {
      "cell_type": "code",
      "source": [
        "#callable"
      ],
      "metadata": {
        "id": "YZn_TwAPcUVw"
      },
      "execution_count": null,
      "outputs": []
    },
    {
      "cell_type": "markdown",
      "source": [
        "#11.정규표현식"
      ],
      "metadata": {
        "id": "k0w7sgPpb7cp"
      }
    },
    {
      "cell_type": "markdown",
      "source": [
        "#12.multi threadinng, processing, queue"
      ],
      "metadata": {
        "id": "rmxSIUDagXv1"
      }
    },
    {
      "cell_type": "code",
      "source": [
        "#multi thread\n",
        "import threading\n",
        "import time\n",
        "\n",
        "def timer_thread(stop_event): # 소프트웨어 함수이기때문에 몇백ms의 오차, 정확하게 c언어코딩하면 1~2ms에서 제어가능 # c언어 하드웨어 제어 좋음 python 소프트웨어 생산성\n",
        "  global endpoint\n",
        "  for _ in range(60):\n",
        "    if endpoint==0:\n",
        "      break\n",
        "    time.sleep(1)\n",
        "  stop_event.set()  # 이벤트 설정 (녹화 중지)\n",
        "stop_recording = threading.Event()\n",
        "timer = threading.Thread(target=timer_thread, args=(stop_recording,))\n",
        "\n",
        "timer.start()\n",
        "timer.join() # thread는 join하지않더라도 리소스낭비 문제가 심하지않음\n",
        "\n",
        "# thread가 전역변수에 결과를 더할 때 충돌이 없도록 Lock 사용\n",
        "# lock에 동시에 접근할 때 다른 thread는 대기해야 하므로 연산속도 저하 및 리소스 낭비 가능성 있음\n",
        "lock = threading.Lock()\n",
        "with lock:\n",
        "  result += part_sum\n",
        "\n",
        "#\n",
        "stop_recording.wait() # 이벤트가 설정될 때까지 대기\n",
        "stop_recording.clear() # 이벤트 초기화\n",
        "stop_recording.is_set() # 이벤트가 설정되었는지 확인"
      ],
      "metadata": {
        "id": "lyBjA5PmhaDD"
      },
      "execution_count": null,
      "outputs": []
    },
    {
      "cell_type": "code",
      "source": [
        "#multi process\n",
        "import multiprocessing\n",
        "\n",
        "def sum_numbers(start, end, queue):\n",
        "    total = 0\n",
        "    for i in range(start, end + 1):\n",
        "        total += i\n",
        "    queue.put(total)\n",
        "\n",
        "if __name__ == '__main__':\n",
        "    # 멀티프로세싱 큐 생성\n",
        "    queue = multiprocessing.Queue()\n",
        "\n",
        "    # 첫 번째 프로세스 생성 및 시작\n",
        "    p1 = multiprocessing.Process(target=sum_numbers, args=(1, 50000000, queue))\n",
        "    p1.start()\n",
        "\n",
        "    # 두 번째 프로세스 생성 및 시작\n",
        "    p2 = multiprocessing.Process(target=sum_numbers, args=(50000001, 100000000, queue))\n",
        "    p2.start()\n",
        "\n",
        "    # 프로세스가 완료될 때까지 대기\n",
        "    p1.join()\n",
        "    p2.join()\n",
        "\n",
        "    # 결과를 큐에서 가져와 합산\n",
        "    total_sum = queue.get() + queue.get() #FIFO 구조\n",
        "# multi process는 join하지 않으면 좀비프로세스 리소스낭비 발생"
      ],
      "metadata": {
        "id": "tHtP_-PWhaoz"
      },
      "execution_count": null,
      "outputs": []
    },
    {
      "cell_type": "code",
      "source": [
        "from multiprocessing import Pool\n",
        "import pandas as pd\n",
        "\n",
        "def process_file(file_name):\n",
        "    # 대용량 파일 처리 로직\n",
        "    data = pd.read_csv(file_name)\n",
        "    # 복잡한 데이터 처리 작업 수행\n",
        "    processed_data = data\n",
        "    return processed_data\n",
        "\n",
        "if __name__ == '__main__':\n",
        "    files = ['file1.csv', 'file2.csv', 'file3.csv'] # 처리할 파일 목록\n",
        "    with Pool(processes=3) as pool:\n",
        "        results = pool.map(process_file, files)"
      ],
      "metadata": {
        "id": "-f94ZpeEhdOd"
      },
      "execution_count": null,
      "outputs": []
    },
    {
      "cell_type": "code",
      "source": [
        "#queue\n",
        "from queue import Queue # 기본 유한 큐(시스템 메모리가 허용하는 한에서만 요소 추가)\n",
        "\n",
        "a= Queue()\n",
        "a.put(1)\n",
        "a.put(2)\n",
        "print(a.get())\n",
        "print(a.get())\n",
        "q_limited = Queue(maxsize=10)\n",
        "a.queue.clear()\n",
        "a.queue.full() #boolean\n",
        "a.queue.empty() #boolean"
      ],
      "metadata": {
        "id": "LE5ghJJQie0q"
      },
      "execution_count": null,
      "outputs": []
    },
    {
      "cell_type": "markdown",
      "source": [
        "#13.Question"
      ],
      "metadata": {
        "id": "S7Nq_SxspGit"
      }
    },
    {
      "cell_type": "code",
      "source": [
        "object #?\n",
        "\n",
        "\n",
        "#자체 객체가 변경되는 것과\n",
        "#변경값을 리턴하는 것 구분"
      ],
      "metadata": {
        "id": "knIpISh-483r"
      },
      "execution_count": null,
      "outputs": []
    }
  ]
}