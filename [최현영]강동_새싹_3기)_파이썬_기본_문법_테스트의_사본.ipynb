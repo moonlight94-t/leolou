{
  "nbformat": 4,
  "nbformat_minor": 0,
  "metadata": {
    "colab": {
      "provenance": [],
      "include_colab_link": true
    },
    "kernelspec": {
      "name": "python3",
      "display_name": "Python 3"
    },
    "language_info": {
      "name": "python"
    }
  },
  "cells": [
    {
      "cell_type": "markdown",
      "metadata": {
        "id": "view-in-github",
        "colab_type": "text"
      },
      "source": [
        "<a href=\"https://colab.research.google.com/github/moonlight94-t/leolou/blob/master/%5B%EC%B5%9C%ED%98%84%EC%98%81%5D%EA%B0%95%EB%8F%99_%EC%83%88%EC%8B%B9_3%EA%B8%B0)_%ED%8C%8C%EC%9D%B4%EC%8D%AC_%EA%B8%B0%EB%B3%B8_%EB%AC%B8%EB%B2%95_%ED%85%8C%EC%8A%A4%ED%8A%B8%EC%9D%98_%EC%82%AC%EB%B3%B8.ipynb\" target=\"_parent\"><img src=\"https://colab.research.google.com/assets/colab-badge.svg\" alt=\"Open In Colab\"/></a>"
      ]
    },
    {
      "cell_type": "markdown",
      "source": [
        "# 강동 새싹 3기) 파이썬 기본 문법 테스트\n",
        "\n",
        "해당 파일은 뷰어로 설정되어 있습니다.\n",
        "파일을 사본으로 복사 후 제목 앞에 이름을 추가해주세요.\n",
        "ex) [김민주] 강동 새싹 3기) 파이썬 기본 문법 테스트\n",
        "\n",
        "문제를 푸신 후 파일 -> 다운로드 -> .ipynb 다운로드 후\n",
        "파일을 받아 클래스룸에 과제 제출로 업로드해주세요.\n",
        "\n",
        "꼭 공유 링크가 아닌 파일 형태로 제출해 주셔야 합니다~"
      ],
      "metadata": {
        "id": "240kTWEmIsfT"
      }
    },
    {
      "cell_type": "markdown",
      "source": [
        "\n",
        "\n",
        "---\n",
        "\n"
      ],
      "metadata": {
        "id": "5Q8EcYoZIu-A"
      }
    },
    {
      "cell_type": "markdown",
      "source": [
        "### 1번 문제 : 별 찍기\n",
        "\n",
        "- n개의 줄로 구성된 직각삼각형 모양의 별을 출력합니다. n이 5인 경우 출력은 다음과 같습니다.\n",
        "\n",
        "\n",
        "\n",
        "\n",
        "```\n",
        "*\n",
        "**\n",
        "***\n",
        "****\n",
        "*****\n",
        "\n",
        "```\n",
        "\n",
        "\n",
        "\n",
        "- n개의 줄로 구성된 피라미드 모양의 별을 출력합니다. n이 5인 경우 출력은 다음과 같습니다.\n",
        "\n",
        "\n",
        "\n",
        "\n",
        "```\n",
        "    *\n",
        "   ***\n",
        "  *****\n",
        " *******\n",
        "*********\n",
        "\n",
        "```\n",
        "\n",
        "\n",
        "- n개의 줄로 구성된 내부가 비어있는 피라미드 모양의 별을 출력합니다. n이 5인 경우 출력은 다음과 같습니다.\n",
        "\n",
        "\n",
        "\n",
        "\n",
        "```\n",
        "    *\n",
        "   * *\n",
        "  *   *\n",
        " *     *\n",
        "*********\n",
        "\n",
        "```\n",
        "\n"
      ],
      "metadata": {
        "id": "pPGtNC_IF4yx"
      }
    },
    {
      "cell_type": "code",
      "source": [
        "# 코드를 작성해주세요.\n",
        "n = int(input())\n",
        "for i in range(n):\n",
        "  print('*'*(i+1))"
      ],
      "metadata": {
        "id": "aIVS11bTN-Gg"
      },
      "execution_count": null,
      "outputs": []
    },
    {
      "cell_type": "code",
      "source": [
        "n = int(input())\n",
        "for i in range(n):\n",
        "  print(' '*(n-i-1), end='')\n",
        "  print('*'*(2*i+1))"
      ],
      "metadata": {
        "id": "1DMpAAtDwGZP"
      },
      "execution_count": null,
      "outputs": []
    },
    {
      "cell_type": "code",
      "source": [
        "n = int(input())\n",
        "for i in range(n):\n",
        "  if i == 0 or i == n-1:\n",
        "    print(' '*(n-i-1), end='')\n",
        "    print('*'*(2*i+1))\n",
        "  else:\n",
        "    print(' '*(n-i-1), end='')\n",
        "    print('*', end='')\n",
        "    print(' '*(2*i-1), end='')\n",
        "    print('*')"
      ],
      "metadata": {
        "id": "DTI5qWoUwIoC"
      },
      "execution_count": null,
      "outputs": []
    },
    {
      "cell_type": "markdown",
      "source": [
        "### 2번 문제 : 사각형 채우기\n",
        "\n",
        "- n x n 크기의 사각형에 숫자를 순차적으로 채웁니다. n이 5인 경우 출력은 다음과 같습니다\n",
        "\n",
        "\n",
        "\n",
        "```\n",
        " 1  2  3  4  5\n",
        " 6  7  8  9 10\n",
        "11 12 13 14 15\n",
        "16 17 18 19 20\n",
        "21 22 23 24 25\n",
        "\n",
        "```\n",
        "\n",
        "- n x n 크기의 사각형에 숫자를 위에서 아래로, 그리고 아래에서 위로 번갈아가면서 채웁니다. n이 5인 경우 출력은 다음과 같습니다.\n",
        "\n",
        "\n",
        "\n",
        "```\n",
        " 1 10 11 20 21\n",
        " 2  9 12 19 22\n",
        " 3  8 13 18 23\n",
        " 4  7 14 17 24\n",
        " 5  6 15 16 25\n",
        "\n",
        "```\n",
        "\n"
      ],
      "metadata": {
        "id": "rJy6X8ZVGAbH"
      }
    },
    {
      "cell_type": "code",
      "source": [
        "# 코드를 작성해주세요.\n",
        "n=int(input())\n",
        "term=[]\n",
        "for i in range(n):\n",
        "  for j in range(n):\n",
        "    term.append(j+1+n*i)\n",
        "for i in range(n):\n",
        "  print(*term[i*n:n*(i+1)])"
      ],
      "metadata": {
        "id": "v4AHaqNAN-wY"
      },
      "execution_count": null,
      "outputs": []
    },
    {
      "cell_type": "code",
      "source": [
        "n=int(input())\n",
        "term=[]\n",
        "temp=[]\n",
        "temp2=[]\n",
        "for i in range(n):\n",
        "  for j in range(n):\n",
        "    term.append(j+1+n*i)\n",
        "\n",
        "for i in range(n):\n",
        "  temp.append(term[i*n:n*(i+1)])\n",
        "\n",
        "for i in range(n):\n",
        "  if i%2 !=0 :\n",
        "    temp2=temp[i]\n",
        "    temp2.reverse()\n",
        "    temp[i]=temp2\n",
        "\n",
        "temp2=[]\n",
        "for i in range(n):\n",
        "  for j in range(n):\n",
        "    temp2.append(temp[j][i])\n",
        "\n",
        "for i in range(n):\n",
        "  print(*temp2[i*n:n*(i+1)])"
      ],
      "metadata": {
        "id": "rPnK_XTDzkCn"
      },
      "execution_count": null,
      "outputs": []
    },
    {
      "cell_type": "markdown",
      "source": [
        "### 3번 문제 : 회문 검사\n",
        "\n",
        "- 문자열이 있을 때 대소문자 상관 없이 그 문자열이 회문인지 여부를 판단하세요.\n",
        "\n"
      ],
      "metadata": {
        "id": "1ou6FGdTGC6s"
      }
    },
    {
      "cell_type": "code",
      "source": [
        "# 코드를 작성해주세요.\n",
        "def function(a):\n",
        "  if a.reverse==a:\n",
        "    print YES\n",
        "  else print NO"
      ],
      "metadata": {
        "id": "neu8rl2NN-zk"
      },
      "execution_count": null,
      "outputs": []
    },
    {
      "cell_type": "markdown",
      "source": [
        "### 4번 문제 : 리스트 내 중복 제거\n",
        "\n",
        "- 리스트 내부에 있는 중복 요소를 제거하세요. 첫 번째 방법은 set을 사용하고, 두 번째 방법은 for문을 사용하여 직접 제거합니다."
      ],
      "metadata": {
        "id": "1gJbLN_cGF5e"
      }
    },
    {
      "cell_type": "code",
      "source": [
        "# 코드를 작성해주세요."
      ],
      "metadata": {
        "id": "fnLPRgrZN-6V"
      },
      "execution_count": null,
      "outputs": []
    },
    {
      "cell_type": "markdown",
      "source": [
        "### 5번 문제 : 리스트 뒤집기\n",
        "\n",
        "- 주어진 리스트를 두 가지 방법으로 뒤집으세요. 첫 번째 방법은 리스트의 내장 메소드를 사용하고, 두 번째 방법은 while문을 사용하여 직접 뒤집으세요."
      ],
      "metadata": {
        "id": "Jc6C8Oi3GEkg"
      }
    },
    {
      "cell_type": "code",
      "source": [
        "# 코드를 작성해주세요.\n",
        "#reverse\n",
        "a=[]\n",
        "a.reverse()\n",
        "n=0\n",
        "\n",
        "#while\n",
        "a=input()\n",
        "b=[]\n",
        "n=0\n",
        "\n",
        "while n < len(a):\n",
        "  b.append(a[-(1+n)])\n",
        "  n += 1\n",
        "\n",
        "print(b)"
      ],
      "metadata": {
        "id": "OUfwP8REN-3A"
      },
      "execution_count": null,
      "outputs": []
    },
    {
      "cell_type": "markdown",
      "source": [
        "### 6번 문제 : 투표 취합\n",
        "\n",
        "- n명의 사람이 apple, banana, cherry, grape, orange 5가지 과일 중 하나를 선택한 리스트가 있습니다. 어떤 과일이 몇 표를 받았는지 취합하는 딕셔너리를 만들세요.\n",
        "\n",
        "예) ['cherry', 'grape', 'orange', 'banana', 'cherry', 'banana', 'cherry', 'cherry','apple','apple'] -> {'cherry':4, 'grape':1, 'orange':1, 'banana':2,'apple':2}"
      ],
      "metadata": {
        "id": "ZIsrGlmVGHxI"
      }
    },
    {
      "cell_type": "code",
      "source": [
        "# 코드를 작성해주세요.\n",
        "fruits=['apple', 'banana', 'cherry', 'grape', 'orange']\n",
        "vote=[]\n",
        "vote2={}\n",
        "\n",
        "vote2.fromkeys(fruits)\n",
        "\n",
        "for i in fruits:\n",
        "  vote2[i]=vote.count(i)\n",
        "\n",
        "print(vote2)"
      ],
      "metadata": {
        "id": "vyKDOLXbN-9G"
      },
      "execution_count": null,
      "outputs": []
    },
    {
      "cell_type": "markdown",
      "source": [
        "### 7번 문제\n",
        "\n",
        "- 아래 코드는 3가지 파일은 생성하고 그 안에 과일의 이름을 적는 코드입니다. 먼저 아래 코드를 실행해서 3가지 파일을 만들고 그 이후 생선된 3개의 파일 내용을 모두 읽은 후 단어의 길이를 기준으로 정렬하여 새로운 4번 파일에 저장하세요."
      ],
      "metadata": {
        "id": "eLc2eOcWGJeA"
      }
    },
    {
      "cell_type": "code",
      "source": [
        "# 코드를 한 번 실행해주세요.\n",
        "\n",
        "file_names = [\"새파일1.txt\", \"새파일2.txt\", \"새파일3.txt\"]\n",
        "fruits = [\n",
        "    [\"apple\", \"banana\", \"cherry\"],\n",
        "    [\"grape\", \"orange\", \"pear\"],\n",
        "    [\"kiwi\", \"peach\", \"plum\"]\n",
        "]\n",
        "\n",
        "\n",
        "for file_name, fruit_list in zip(file_names, fruits):\n",
        "    with open(file_name, 'w', encoding='utf-8') as f:\n",
        "        for fruit in fruit_list:\n",
        "            f.write(fruit + \"\\n\")\n",
        "\n",
        "f.close()"
      ],
      "metadata": {
        "id": "zYtd3dwWNoPP"
      },
      "execution_count": null,
      "outputs": []
    },
    {
      "cell_type": "code",
      "source": [
        "# 코드를 작성해주세요.\n",
        "li1 = open('/content/새파일1.txt', 'r')\n",
        "li2 = open('/content/새파일2.txt', 'r')\n",
        "li3 = open('/content/새파일3.txt', 'r')\n",
        "\n",
        "lis1=li1.read().split()\n",
        "lis2=li2.read().split()\n",
        "lis3=li3.read().split()\n",
        "\n",
        "lis1.extend(lis2)\n",
        "lis1.extend(lis3)\n",
        "lis1.sort(key=len)\n",
        "\n",
        "with open(\"새파일4.txt\", 'w', encoding='utf-8') as f:\n",
        "  for fruit in lis1:\n",
        "    f.write(fruit+\"\\n\")\n",
        "\n",
        "f.close()"
      ],
      "metadata": {
        "id": "TdC1i8qhIgbW"
      },
      "execution_count": null,
      "outputs": []
    }
  ]
}